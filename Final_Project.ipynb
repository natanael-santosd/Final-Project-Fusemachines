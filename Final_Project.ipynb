{
  "nbformat": 4,
  "nbformat_minor": 0,
  "metadata": {
    "colab": {
      "provenance": [],
      "toc_visible": true,
      "authorship_tag": "ABX9TyODYySX7NPZAzQwjlfFe0kx",
      "include_colab_link": true
    },
    "kernelspec": {
      "name": "python3",
      "display_name": "Python 3"
    },
    "language_info": {
      "name": "python"
    }
  },
  "cells": [
    {
      "cell_type": "markdown",
      "metadata": {
        "id": "view-in-github",
        "colab_type": "text"
      },
      "source": [
        "<a href=\"https://colab.research.google.com/github/natanael-santosd/Final-Project-Fusemachines/blob/main/Final_Project.ipynb\" target=\"_parent\"><img src=\"https://colab.research.google.com/assets/colab-badge.svg\" alt=\"Open In Colab\"/></a>"
      ]
    },
    {
      "cell_type": "markdown",
      "source": [
        "# **An Example of Emotion Detection and Topic Modeling Analysis of Crime News Comments on Instagram: The Paula Santana's Case**\n",
        "#### By Natanael Santos Delgado"
      ],
      "metadata": {
        "id": "02tUZmmLNLqw"
      }
    },
    {
      "cell_type": "markdown",
      "source": [
        "# Introduction\n",
        "\n",
        "In this project, the primary objective is to explore the main reactions among Dominican users on Instagram (IG) when confronted with crime-related news. Specifically, the analysis focuses on the comments section of an Instagram news post discussing the tragic case of Paula Santana. Paula, a victim of workplace violence, was tragically killed by two co-workers, one of whom she had previously reported for harassment—an issue that was not properly addressed by Human Resources.\n",
        "\n",
        "Such cases often evoke strong reactions from the public, making it suitable to analyse the sentiments expressed within these comments. This analysis seeks to uncover the public's stance on addressing similar incidents, their concerns regarding safety—particularly for women—and a broader reflection on the victim's profile.\n",
        "\n",
        "For emotion detection, the Python TextBlob library was employed. Additionally, Latent Dirichlet Allocation (LDA) was utilized for topic modeling, aiding in identifying recurring themes and discussions within the comments.\n",
        "\n",
        "However, the project faced several challenges, notably in data collection. Web scraping Instagram semms to be difficult, prompting researchers to opt for comment extraction from Twitter instead. Furthermore, data preprocessing involved cleaning mainstream media news using Excel. Despite these efforts, it's acknowledged that the applied methods may not fully address the scope of the research questions, suggesting the need for further exploration and refinement in future endeavors."
      ],
      "metadata": {
        "id": "ZPFs39PSot5B"
      }
    },
    {
      "cell_type": "markdown",
      "source": [
        "# 1. Literature Review\n",
        "\n",
        "## 1.1. Discourse Analysis\n",
        "\n",
        "The International Encyclopedia of Education (2023) defines **discourse analysis** as *the epistemological framework for investigating discourse which allows it to approach the variety of discursive genres and to describe the complexity of the discourse and of the interaction*.\n",
        "\n",
        "However, discourse analysis has been traditionally a qualitative research approach, that aims to extract social meaning from the study of the use of the language, according to Melissa N.P. Johnson & Ethan McLean (2020). The authors also mention that the way language can influence the social world is a bipartisan relationship.\n",
        "\n",
        "## 1.2 Machine Learning Methods for Discourse Analysis\n",
        "\n",
        "We can apply Machine Learning methods to perform discourse analysis. One of the widely used methods for this matters is sentiment analysis. Sentiment analysis can be defined as a task that aims to assign a contextual polarity label to text, according to Nejab Bija et. al (2017). However, the authors also recognize the limitations of this approach, in the sense that analyzing the overall polarity of a sentence is subject to the ambiguities that can be introduced by combinations of words and phrases.\n",
        "\n",
        "Moreover, Natural Language Processing (NLP) is an ever-growing field of computational science that aims to model natural human language, as explained by Natasha Clarke et. al (2020). The authors recognize the importance of combining both NLP with the advances in machine learning, which learns patterns in data, for automated language analysis.\n",
        "\n",
        "## 1.3 Emotion Detection and Topic Modeling\n",
        "\n",
        "Emotion Detection is an important technique for language and discourse analysis. Emotion in this context can be defined as a feeling or the opinion of a person towards something (M. Bakri et al., 2018) that can be expressed in many ways, including speech by written text (Shiv N. et al, 2012), playing an important role in human behaviour.\n",
        "\n",
        "Consequently, Emotion Detection in written text can be defined as a \"content-based classification problem involving concepts from the domains of Natural Language Processing as well as Machine Learning\" (Shiv N. et al., 2012).\n",
        "\n",
        "Moreover, another technique suitable for analysing unstructured text data is Topic Modeling. Andres M. et al (2022) define it as \"a statistical technique used to identify underlying themes in a set of documents that facilitate their representation from the occurrence of words that compose them\".\n",
        "\n",
        "## 1.4 Emotion Detection and Topic Modeling for Crime News\n",
        "\n",
        "News social media pages enable user to express different types of emotions (e.g., angry) and opinions (topics) they have after after reading the news. Compared with traditional user feedbacks, such as comments and ratings, these specific emotion annotations are more accurate for expressing users' public’s opinions and emotions toward certain issues (Chen Zhu et al., 2015).\n",
        "\n",
        "An important issue that can ba analysed by extracting people's reaction from social media is crime, where social media can influence the public’s emotions, impressions, perspectives and judgments regarding crime, as evidenced by Thomas J. et al. (2014). The authors also  explain that people tend to rely upon resources published by the media production in observing crime topics.\n",
        "\n",
        "In this project, a single crime case is analysed, using the users' comments in the news post in order to identify main reactions and common topics of discussion among the commentators.\n",
        "\n",
        "The case being analysed is the Paula Santana's Case, a young student who was killed in the outskirts of her job by two coworkers; one of whom she had reported for harassment and Human Resources did not take it seriously.\n",
        "\n",
        "This is one the news from Diario Libre, one the two main printed newspapers in the Dominican Republic. In this report, the newspaper provides some context and information about the victim and the case.\n"
      ],
      "metadata": {
        "id": "Hf47JgdSrzg2"
      }
    },
    {
      "cell_type": "markdown",
      "source": [
        "# 2. Mainstream Media Coverage\n",
        "\n",
        "**Media:** Diario Libre \\\n",
        "**Date:** February 23\\\n",
        "**Original Language:** Spanish \\\n",
        "**Link:** https://www.instagram.com/p/C3s9_RvvPla/ \\\n",
        "**Number of Likes:** 12,023 \\\n",
        "**Number of Comments:** 658 (498)\n",
        "\n",
        "**Text of the News:**\n",
        "\n",
        "Faltaban pocos meses para que Paula Santana Escalante convirtiera en realidad su sueño: ser una azafata. Sin embargo, todo se desvaneció tras encontrar su cuerpo sin vida a las afueras de la empresa donde trabajaba en la zona franca de Las Américas, en Santo Domingo Este. A pesar de contar con pocos recursos, nunca consideró abandonar sus estudios ni renunciar a su sueño de ser azafata para poder sacar adelante a su familia. La joven era estudiante de Inter Aviation Services (Iasca). Con tristeza, sus familiares expresaron que la determinación y entrega de Paula hacía que sus familiares la vieran como un ejemplo a seguir. El principal sospechoso de su muerte es un compañero de trabajo, quien, según sus parientes, la acosaba. Pese a que denunció la situación en el departamento de Recursos Humanos de la empresa Integer Holdings Corporation, estos habrían hecho caso omiso.\n",
        "\n",
        "**English Translation:**\n",
        "\n",
        "A few months were left for Paula Santana Escalante to make her dream a reality: to become a flight attendant. However, everything vanished after her lifeless body was found on the outskirts of the company where she worked in the Las Américas free zone, in Santo Domingo Este. Despite having few resources, she never considered abandoning her studies or giving up her dream of becoming a flight attendant to support her family. The young woman was a student at Inter Aviation Services (Iasca). With sadness, her relatives expressed that Paula's determination and dedication made her a role model for her family members. The main suspect in her death is a coworker, who, according to her relatives, harassed her. Although she reported the situation to the Human Resources department of the company Integer Holdings Corporation, they allegedly ignored it.\n"
      ],
      "metadata": {
        "id": "rWCZz1tHCqIN"
      }
    },
    {
      "cell_type": "markdown",
      "source": [
        "## 2.1 Exploratory Data Analysis (EDA)"
      ],
      "metadata": {
        "id": "kZkMRFXLHo9q"
      }
    },
    {
      "cell_type": "markdown",
      "source": [
        "### 2.1.1 Data Source\n",
        "\n",
        "The Instagram comments were extracted by copying the entire page (CTRL + A) and pasting all elements in Excel. To clean the data to only have the comments, these Excel features were applied:\n",
        "\n",
        "- Alt + F5 to select specific elements and delete them. At first, delete all objects (images).\n",
        "- Excel VBA formula was applied to select all cells that contained hyperlinks (instagram functionalities, such as \"see more\", \"respond\", etc. appeared with hyperlinks).\n",
        "- Finally, Filtering was applied to select only cells with values and copying them in a clean worksheet.\n",
        "\n",
        "\n",
        "From this process, the clean dataset was obtained with only main comments (no responses) and an ID column was added.\n",
        "\n",
        "The reason why this approach was chosen is because Instagram Web is very difficult for web scraping, so in this case using Excel was more suitable for the matter."
      ],
      "metadata": {
        "id": "_LjHZLY-svyx"
      }
    },
    {
      "cell_type": "code",
      "source": [
        "# Importing required libraries\n",
        "import pandas as pd\n",
        "from textblob import TextBlob\n",
        "!pip install emoji\n",
        "import emoji as emoji\n",
        "import nltk as nltk\n",
        "import pandas as pd\n",
        "from collections import Counter\n",
        "from nltk.corpus import stopwords\n",
        "from nltk.tokenize import word_tokenize\n",
        "from nltk.stem import WordNetLemmatizer\n",
        "from nltk.corpus import wordnet\n",
        "import matplotlib.pyplot as plt\n",
        "from wordcloud import WordCloud\n",
        "import numpy as np\n",
        "nltk.download('wordnet')\n",
        "nltk.download('punkt')\n",
        "nltk.download('stopwords')\n",
        "\n",
        "# Loading the dataset\n",
        "df = pd.read_csv('diariolibre1.csv')\n",
        "df['data'] = df['data'].astype('str')\n",
        "\n",
        "# Let's see the structure of the dataset\n",
        "df.head()"
      ],
      "metadata": {
        "id": "QmhxEfpgk9rB",
        "colab": {
          "base_uri": "https://localhost:8080/",
          "height": 328
        },
        "outputId": "25552556-240d-409c-d0f2-04733ef8623b"
      },
      "execution_count": 4,
      "outputs": [
        {
          "output_type": "stream",
          "name": "stdout",
          "text": [
            "Requirement already satisfied: emoji in /usr/local/lib/python3.10/dist-packages (2.11.0)\n"
          ]
        },
        {
          "output_type": "stream",
          "name": "stderr",
          "text": [
            "[nltk_data] Downloading package wordnet to /root/nltk_data...\n",
            "[nltk_data]   Package wordnet is already up-to-date!\n",
            "[nltk_data] Downloading package punkt to /root/nltk_data...\n",
            "[nltk_data]   Package punkt is already up-to-date!\n",
            "[nltk_data] Downloading package stopwords to /root/nltk_data...\n",
            "[nltk_data]   Package stopwords is already up-to-date!\n"
          ]
        },
        {
          "output_type": "execute_result",
          "data": {
            "text/plain": [
              "   id                                               data\n",
              "0   0  No podemos dejar de hacer sonar el caso, hay q...\n",
              "1   1  Y según la empresa, las cámaras del entorno do...\n",
              "2   2   😢Dios mio, como apagaron el sueño de esa joven,😢\n",
              "3   3  A ley de 4 meses paulita para graduarnos y mir...\n",
              "4   4  Que raro que no se han filtrado fotos del acos..."
            ],
            "text/html": [
              "\n",
              "  <div id=\"df-33d7245e-9635-4f0a-aa77-77a8bf7300d5\" class=\"colab-df-container\">\n",
              "    <div>\n",
              "<style scoped>\n",
              "    .dataframe tbody tr th:only-of-type {\n",
              "        vertical-align: middle;\n",
              "    }\n",
              "\n",
              "    .dataframe tbody tr th {\n",
              "        vertical-align: top;\n",
              "    }\n",
              "\n",
              "    .dataframe thead th {\n",
              "        text-align: right;\n",
              "    }\n",
              "</style>\n",
              "<table border=\"1\" class=\"dataframe\">\n",
              "  <thead>\n",
              "    <tr style=\"text-align: right;\">\n",
              "      <th></th>\n",
              "      <th>id</th>\n",
              "      <th>data</th>\n",
              "    </tr>\n",
              "  </thead>\n",
              "  <tbody>\n",
              "    <tr>\n",
              "      <th>0</th>\n",
              "      <td>0</td>\n",
              "      <td>No podemos dejar de hacer sonar el caso, hay q...</td>\n",
              "    </tr>\n",
              "    <tr>\n",
              "      <th>1</th>\n",
              "      <td>1</td>\n",
              "      <td>Y según la empresa, las cámaras del entorno do...</td>\n",
              "    </tr>\n",
              "    <tr>\n",
              "      <th>2</th>\n",
              "      <td>2</td>\n",
              "      <td>😢Dios mio, como apagaron el sueño de esa joven,😢</td>\n",
              "    </tr>\n",
              "    <tr>\n",
              "      <th>3</th>\n",
              "      <td>3</td>\n",
              "      <td>A ley de 4 meses paulita para graduarnos y mir...</td>\n",
              "    </tr>\n",
              "    <tr>\n",
              "      <th>4</th>\n",
              "      <td>4</td>\n",
              "      <td>Que raro que no se han filtrado fotos del acos...</td>\n",
              "    </tr>\n",
              "  </tbody>\n",
              "</table>\n",
              "</div>\n",
              "    <div class=\"colab-df-buttons\">\n",
              "\n",
              "  <div class=\"colab-df-container\">\n",
              "    <button class=\"colab-df-convert\" onclick=\"convertToInteractive('df-33d7245e-9635-4f0a-aa77-77a8bf7300d5')\"\n",
              "            title=\"Convert this dataframe to an interactive table.\"\n",
              "            style=\"display:none;\">\n",
              "\n",
              "  <svg xmlns=\"http://www.w3.org/2000/svg\" height=\"24px\" viewBox=\"0 -960 960 960\">\n",
              "    <path d=\"M120-120v-720h720v720H120Zm60-500h600v-160H180v160Zm220 220h160v-160H400v160Zm0 220h160v-160H400v160ZM180-400h160v-160H180v160Zm440 0h160v-160H620v160ZM180-180h160v-160H180v160Zm440 0h160v-160H620v160Z\"/>\n",
              "  </svg>\n",
              "    </button>\n",
              "\n",
              "  <style>\n",
              "    .colab-df-container {\n",
              "      display:flex;\n",
              "      gap: 12px;\n",
              "    }\n",
              "\n",
              "    .colab-df-convert {\n",
              "      background-color: #E8F0FE;\n",
              "      border: none;\n",
              "      border-radius: 50%;\n",
              "      cursor: pointer;\n",
              "      display: none;\n",
              "      fill: #1967D2;\n",
              "      height: 32px;\n",
              "      padding: 0 0 0 0;\n",
              "      width: 32px;\n",
              "    }\n",
              "\n",
              "    .colab-df-convert:hover {\n",
              "      background-color: #E2EBFA;\n",
              "      box-shadow: 0px 1px 2px rgba(60, 64, 67, 0.3), 0px 1px 3px 1px rgba(60, 64, 67, 0.15);\n",
              "      fill: #174EA6;\n",
              "    }\n",
              "\n",
              "    .colab-df-buttons div {\n",
              "      margin-bottom: 4px;\n",
              "    }\n",
              "\n",
              "    [theme=dark] .colab-df-convert {\n",
              "      background-color: #3B4455;\n",
              "      fill: #D2E3FC;\n",
              "    }\n",
              "\n",
              "    [theme=dark] .colab-df-convert:hover {\n",
              "      background-color: #434B5C;\n",
              "      box-shadow: 0px 1px 3px 1px rgba(0, 0, 0, 0.15);\n",
              "      filter: drop-shadow(0px 1px 2px rgba(0, 0, 0, 0.3));\n",
              "      fill: #FFFFFF;\n",
              "    }\n",
              "  </style>\n",
              "\n",
              "    <script>\n",
              "      const buttonEl =\n",
              "        document.querySelector('#df-33d7245e-9635-4f0a-aa77-77a8bf7300d5 button.colab-df-convert');\n",
              "      buttonEl.style.display =\n",
              "        google.colab.kernel.accessAllowed ? 'block' : 'none';\n",
              "\n",
              "      async function convertToInteractive(key) {\n",
              "        const element = document.querySelector('#df-33d7245e-9635-4f0a-aa77-77a8bf7300d5');\n",
              "        const dataTable =\n",
              "          await google.colab.kernel.invokeFunction('convertToInteractive',\n",
              "                                                    [key], {});\n",
              "        if (!dataTable) return;\n",
              "\n",
              "        const docLinkHtml = 'Like what you see? Visit the ' +\n",
              "          '<a target=\"_blank\" href=https://colab.research.google.com/notebooks/data_table.ipynb>data table notebook</a>'\n",
              "          + ' to learn more about interactive tables.';\n",
              "        element.innerHTML = '';\n",
              "        dataTable['output_type'] = 'display_data';\n",
              "        await google.colab.output.renderOutput(dataTable, element);\n",
              "        const docLink = document.createElement('div');\n",
              "        docLink.innerHTML = docLinkHtml;\n",
              "        element.appendChild(docLink);\n",
              "      }\n",
              "    </script>\n",
              "  </div>\n",
              "\n",
              "\n",
              "<div id=\"df-984cde58-da76-4ee5-8a34-79c31628cdd2\">\n",
              "  <button class=\"colab-df-quickchart\" onclick=\"quickchart('df-984cde58-da76-4ee5-8a34-79c31628cdd2')\"\n",
              "            title=\"Suggest charts\"\n",
              "            style=\"display:none;\">\n",
              "\n",
              "<svg xmlns=\"http://www.w3.org/2000/svg\" height=\"24px\"viewBox=\"0 0 24 24\"\n",
              "     width=\"24px\">\n",
              "    <g>\n",
              "        <path d=\"M19 3H5c-1.1 0-2 .9-2 2v14c0 1.1.9 2 2 2h14c1.1 0 2-.9 2-2V5c0-1.1-.9-2-2-2zM9 17H7v-7h2v7zm4 0h-2V7h2v10zm4 0h-2v-4h2v4z\"/>\n",
              "    </g>\n",
              "</svg>\n",
              "  </button>\n",
              "\n",
              "<style>\n",
              "  .colab-df-quickchart {\n",
              "      --bg-color: #E8F0FE;\n",
              "      --fill-color: #1967D2;\n",
              "      --hover-bg-color: #E2EBFA;\n",
              "      --hover-fill-color: #174EA6;\n",
              "      --disabled-fill-color: #AAA;\n",
              "      --disabled-bg-color: #DDD;\n",
              "  }\n",
              "\n",
              "  [theme=dark] .colab-df-quickchart {\n",
              "      --bg-color: #3B4455;\n",
              "      --fill-color: #D2E3FC;\n",
              "      --hover-bg-color: #434B5C;\n",
              "      --hover-fill-color: #FFFFFF;\n",
              "      --disabled-bg-color: #3B4455;\n",
              "      --disabled-fill-color: #666;\n",
              "  }\n",
              "\n",
              "  .colab-df-quickchart {\n",
              "    background-color: var(--bg-color);\n",
              "    border: none;\n",
              "    border-radius: 50%;\n",
              "    cursor: pointer;\n",
              "    display: none;\n",
              "    fill: var(--fill-color);\n",
              "    height: 32px;\n",
              "    padding: 0;\n",
              "    width: 32px;\n",
              "  }\n",
              "\n",
              "  .colab-df-quickchart:hover {\n",
              "    background-color: var(--hover-bg-color);\n",
              "    box-shadow: 0 1px 2px rgba(60, 64, 67, 0.3), 0 1px 3px 1px rgba(60, 64, 67, 0.15);\n",
              "    fill: var(--button-hover-fill-color);\n",
              "  }\n",
              "\n",
              "  .colab-df-quickchart-complete:disabled,\n",
              "  .colab-df-quickchart-complete:disabled:hover {\n",
              "    background-color: var(--disabled-bg-color);\n",
              "    fill: var(--disabled-fill-color);\n",
              "    box-shadow: none;\n",
              "  }\n",
              "\n",
              "  .colab-df-spinner {\n",
              "    border: 2px solid var(--fill-color);\n",
              "    border-color: transparent;\n",
              "    border-bottom-color: var(--fill-color);\n",
              "    animation:\n",
              "      spin 1s steps(1) infinite;\n",
              "  }\n",
              "\n",
              "  @keyframes spin {\n",
              "    0% {\n",
              "      border-color: transparent;\n",
              "      border-bottom-color: var(--fill-color);\n",
              "      border-left-color: var(--fill-color);\n",
              "    }\n",
              "    20% {\n",
              "      border-color: transparent;\n",
              "      border-left-color: var(--fill-color);\n",
              "      border-top-color: var(--fill-color);\n",
              "    }\n",
              "    30% {\n",
              "      border-color: transparent;\n",
              "      border-left-color: var(--fill-color);\n",
              "      border-top-color: var(--fill-color);\n",
              "      border-right-color: var(--fill-color);\n",
              "    }\n",
              "    40% {\n",
              "      border-color: transparent;\n",
              "      border-right-color: var(--fill-color);\n",
              "      border-top-color: var(--fill-color);\n",
              "    }\n",
              "    60% {\n",
              "      border-color: transparent;\n",
              "      border-right-color: var(--fill-color);\n",
              "    }\n",
              "    80% {\n",
              "      border-color: transparent;\n",
              "      border-right-color: var(--fill-color);\n",
              "      border-bottom-color: var(--fill-color);\n",
              "    }\n",
              "    90% {\n",
              "      border-color: transparent;\n",
              "      border-bottom-color: var(--fill-color);\n",
              "    }\n",
              "  }\n",
              "</style>\n",
              "\n",
              "  <script>\n",
              "    async function quickchart(key) {\n",
              "      const quickchartButtonEl =\n",
              "        document.querySelector('#' + key + ' button');\n",
              "      quickchartButtonEl.disabled = true;  // To prevent multiple clicks.\n",
              "      quickchartButtonEl.classList.add('colab-df-spinner');\n",
              "      try {\n",
              "        const charts = await google.colab.kernel.invokeFunction(\n",
              "            'suggestCharts', [key], {});\n",
              "      } catch (error) {\n",
              "        console.error('Error during call to suggestCharts:', error);\n",
              "      }\n",
              "      quickchartButtonEl.classList.remove('colab-df-spinner');\n",
              "      quickchartButtonEl.classList.add('colab-df-quickchart-complete');\n",
              "    }\n",
              "    (() => {\n",
              "      let quickchartButtonEl =\n",
              "        document.querySelector('#df-984cde58-da76-4ee5-8a34-79c31628cdd2 button');\n",
              "      quickchartButtonEl.style.display =\n",
              "        google.colab.kernel.accessAllowed ? 'block' : 'none';\n",
              "    })();\n",
              "  </script>\n",
              "</div>\n",
              "\n",
              "    </div>\n",
              "  </div>\n"
            ],
            "application/vnd.google.colaboratory.intrinsic+json": {
              "type": "dataframe",
              "variable_name": "df",
              "summary": "{\n  \"name\": \"df\",\n  \"rows\": 500,\n  \"fields\": [\n    {\n      \"column\": \"id\",\n      \"properties\": {\n        \"dtype\": \"number\",\n        \"std\": 144,\n        \"min\": 0,\n        \"max\": 499,\n        \"num_unique_values\": 500,\n        \"samples\": [\n          361,\n          73,\n          374\n        ],\n        \"semantic_type\": \"\",\n        \"description\": \"\"\n      }\n    },\n    {\n      \"column\": \"data\",\n      \"properties\": {\n        \"dtype\": \"string\",\n        \"num_unique_values\": 374,\n        \"samples\": [\n          \"LOS DOMINICANOS NOS ESTAMOS PONIENDO LOCO \\ud83d\\ude2e\\ud83d\\ude2e\\ud83d\\ude2e\",\n          \"Pibrecita se ve una jovencita muy humilde y con grandes metas Como ese desamprensivo le hizo dano a ella y su famila\",\n          \"Yo siento que el que la acoso tiene gente con dinero que le han resuelto porque es demasiada coincidencia de que las c\\u00e1maras no funcionen y de que la empresa no haya denunciado con nombre y apellido al principal sospecho de su muerte nos\\u00e9 ah\\u00ed hay algo raro\"\n        ],\n        \"semantic_type\": \"\",\n        \"description\": \"\"\n      }\n    }\n  ]\n}"
            }
          },
          "metadata": {},
          "execution_count": 4
        }
      ]
    },
    {
      "cell_type": "markdown",
      "source": [
        "### 2.1.2 Data Pre-Processing"
      ],
      "metadata": {
        "id": "hcUJORIjJzpt"
      }
    },
    {
      "cell_type": "markdown",
      "source": [
        "Now, it would be interesting to convert all emojis into text, in order to consider also comments with only emojis in the analysis.\n",
        "\n",
        "This is a source of bias, since I will be defining the meaning, and maybe people did not have that intention or might not be exactly what they meant."
      ],
      "metadata": {
        "id": "zHfwwmmPKVrs"
      }
    },
    {
      "cell_type": "code",
      "source": [
        "df = pd.read_csv('diariolibre1.csv')\n",
        "df['data'] = df['data'].astype('str')\n",
        "df_original = df ## original dataset with emojis\n",
        "\n",
        "# Function to extract emojis from a string\n",
        "def extract_distinct_emojis(text):\n",
        "    return emoji.distinct_emoji_list(text)\n",
        "\n",
        "# Apply the function to each value in the 'data' column\n",
        "emojis_list = df['data'].apply(extract_distinct_emojis)\n",
        "\n",
        "# Aggregate all extracted emojis into a single list\n",
        "all_emojis = [emoji for sublist in emojis_list for emoji in sublist]\n",
        "\n",
        "# Obtain unique emojis\n",
        "unique_emojis = list(set(all_emojis))\n",
        "\n",
        "print(\"Unique List of Emojis:\")\n",
        "print(unique_emojis)\n",
        "\n",
        "emoji_mapping = {\n",
        "    '🙌':'',\n",
        "    '🫂':'',\n",
        "    '😩':'',\n",
        "    '😂':'',\n",
        "    '🌹':'',\n",
        "    '🥲':'',\n",
        "    '💜':'',\n",
        "    '☹️':'',\n",
        "    '😳':'',\n",
        "    '🔥':'',\n",
        "    '🖤':'',\n",
        "    '😔':'',\n",
        "    '💰':'',\n",
        "    '👀':'',\n",
        "    '😄':'',\n",
        "    '🙏🏻':'',\n",
        "    '😖':'',\n",
        "    '🇩🇴':'',\n",
        "    '👏':'',\n",
        "    '😞':'',\n",
        "    '🙈':'',\n",
        "    '⚖️':'',\n",
        "    '😒':'',\n",
        "    '\\U0001f979':'',\n",
        "    '👿':'',\n",
        "    '😢':'',\n",
        "    '❤️':'',\n",
        "    '😇':'',\n",
        "    '😮':'',\n",
        "    '🙃':'',\n",
        "    '😦':'',\n",
        "    '🕯':'',\n",
        "    '😍':'',\n",
        "    '🤬':'',\n",
        "    '🕊':'',\n",
        "    '🙊':'',\n",
        "    '😪':'',\n",
        "    '🧑\\u200d🎨':'',\n",
        "    '🙏🏼':'',\n",
        "    '❤':'',\n",
        "    '🌎':'',\n",
        "    '✝️':'',\n",
        "    '😭':'',\n",
        "    '🙏':'',\n",
        "    '🐀':'',\n",
        "    '🎥':'',\n",
        "    '🙉':'',\n",
        "    '🥺':'',\n",
        "    '😡':'',\n",
        "    '🕊️':'',\n",
        "    '😥':'',\n",
        "    '🤔':'',\n",
        "    '👎':'',\n",
        "    '💔':''\n",
        "}\n",
        "\n",
        "def all_emojis(dataset):\n",
        "  \"\"\"Iterates over the dataset and extract all strings that contain\n",
        "     an emoji.\n",
        "  \"\"\"\n",
        "  processed_text = \"\"\n",
        "  for char in dataset:\n",
        "    if char in emoji_mapping:\n",
        "      processed_text += emoji_mapping[char]\n",
        "    else:\n",
        "      processed_text += char\n",
        "  return processed_text\n",
        "\n",
        "df['data'] = df['data'].apply(all_emojis)\n",
        "print(df) ## Dataset with no emojis\n",
        "\n",
        "df_emoji = pd.read_csv('diariolibre1.csv')\n",
        "df_emoji['data'] = df_emoji['data'].astype('str')\n",
        "\n",
        "emoji_mapping_2 = {\n",
        "    '🙌':'esperanza',\n",
        "    '🫂':'abrazo',\n",
        "    '😩':'angustia',\n",
        "    '😂':'',\n",
        "    '🌹':'rosa',\n",
        "    '🥲':'llorar',\n",
        "    '💜':'esperanza',\n",
        "    '☹️':'llorar',\n",
        "    '😳':'asombro',\n",
        "    '🔥':'',\n",
        "    '🖤':'esperanza',\n",
        "    '😔':'pena',\n",
        "    '💰':'dinero',\n",
        "    '👀':'observar',\n",
        "    '😄':'',\n",
        "    '🙏🏻':'esperanza',\n",
        "    '😖':'pena',\n",
        "    '🇩🇴':'',\n",
        "    '👏':'aplauso',\n",
        "    '😞':'dolor',\n",
        "    '🙈':'',\n",
        "    '⚖️':'justicia',\n",
        "    '😒':'cansancio',\n",
        "    '\\U0001f979':'',\n",
        "    '👿':'enojo',\n",
        "    '😢':'dolor',\n",
        "    '❤️':'esperanza',\n",
        "    '😇':'angel',\n",
        "    '😮':'sorpresa',\n",
        "    '🙃':'enojo',\n",
        "    '😦':'sorpresa',\n",
        "    '🕯':'paz',\n",
        "    '😍':'',\n",
        "    '🤬':'enojo',\n",
        "    '🕊':'descansa en paz',\n",
        "    '🙊':'enojo',\n",
        "    '😪':'dolor',\n",
        "    '🧑\\u200d🎨':'',\n",
        "    '🙏🏼':'orar',\n",
        "    '❤':'esperanza',\n",
        "    '🌎':'mundo',\n",
        "    '✝️':'Dios',\n",
        "    '😭':'llorar',\n",
        "    '🙏':'orar',\n",
        "    '🐀':'raton',\n",
        "    '🎥':'pelicula',\n",
        "    '🙉':'',\n",
        "    '🥺':'llorar',\n",
        "    '😡':'enojo',\n",
        "    '🕊️':'descansa en paz',\n",
        "    '😥':'tristeza',\n",
        "    '🤔':'pensar',\n",
        "    '👎':'disgusto',\n",
        "    '💔':'corazon roto'\n",
        "}\n",
        "\n",
        "def all_emojis_emoji(dataset):\n",
        "  \"\"\"Iterates over the dataset and extract all strings that contain\n",
        "     an emoji.\n",
        "  \"\"\"\n",
        "  processed_text = \"\"\n",
        "  for char in dataset:\n",
        "    if char in emoji_mapping_2:\n",
        "      processed_text += emoji_mapping_2[char]\n",
        "    else:\n",
        "      processed_text += char\n",
        "  return processed_text\n",
        "\n",
        "df_emoji['data'] = df_emoji['data'].apply(all_emojis_emoji)\n",
        "print(df_emoji) ## dataset with emojis converted into text"
      ],
      "metadata": {
        "id": "CBWuibQQKJM1",
        "colab": {
          "base_uri": "https://localhost:8080/"
        },
        "outputId": "89d241bb-cac2-497e-be54-8e49151be0fb"
      },
      "execution_count": 5,
      "outputs": [
        {
          "output_type": "stream",
          "name": "stdout",
          "text": [
            "Unique List of Emojis:\n",
            "['🙌', '😖', '😦', '🤬', '🥺', '🙏', '💜', '⚖️', '👿', '😪', '😍', '😥', '❤', '🔥', '😮', '🧑\\u200d🎨', '🌎', '🇩🇴', '😳', '🎥', '🖤', '💔', '🙊', '😞', '🙏🏻', '😢', '🤔', '🐀', '💰', '🙈', '❤️', '😇', '😂', '🌹', '🙃', '🙉', '\\U0001f979', '😭', '🕯', '🕊️', '🕊', '👀', '😡', '👏', '😩', '🫂', '🙏🏼', '✝️', '☹️', '🥲', '😒', '😔', '👎', '😄']\n",
            "      id                                               data\n",
            "0      0  No podemos dejar de hacer sonar el caso, hay q...\n",
            "1      1  Y según la empresa, las cámaras del entorno do...\n",
            "2      2     Dios mio, como apagaron el sueño de esa joven,\n",
            "3      3  A ley de 4 meses paulita para graduarnos y mir...\n",
            "4      4  Que raro que no se han filtrado fotos del acos...\n",
            "..   ...                                                ...\n",
            "495  495  Lo malo de este país que orita suertan.ese hij...\n",
            "496  496  Esa muchacha faja trabajando y pagándose su ca...\n",
            "497  497                             Hay Dios mío que dolor\n",
            "498  498  Yo solo digo que eso está bien turbio, alguien...\n",
            "499  499  Y la justicia de aquí es una basura con un rég...\n",
            "\n",
            "[500 rows x 2 columns]\n",
            "      id                                               data\n",
            "0      0  No podemos dejar de hacer sonar el caso, hay q...\n",
            "1      1  Y según la empresa, las cámaras del entorno do...\n",
            "2      2  dolorDios mio, como apagaron el sueño de esa j...\n",
            "3      3  A ley de 4 meses paulita para graduarnos y mir...\n",
            "4      4  Que raro que no se han filtrado fotos del acos...\n",
            "..   ...                                                ...\n",
            "495  495  Lo malo de este país que orita suertan.ese hij...\n",
            "496  496  Esa muchacha faja trabajando y pagándose su ca...\n",
            "497  497                             Hay Dios mío que dolor\n",
            "498  498  Yo solo digo que eso está bien turbio, alguien...\n",
            "499  499  Y la justicia de aquí es una basura con un rég...\n",
            "\n",
            "[500 rows x 2 columns]\n"
          ]
        }
      ]
    },
    {
      "cell_type": "markdown",
      "source": [
        "### 2.1.3 Data Visualization"
      ],
      "metadata": {
        "id": "KtAwdYXsk-ae"
      }
    },
    {
      "cell_type": "markdown",
      "source": [
        "#### Bar Chart and Word Cloud\n",
        "\n",
        "Let's visualize the most frequent non-stop words in the dataset."
      ],
      "metadata": {
        "id": "7uq-dE9nshT-"
      }
    },
    {
      "cell_type": "code",
      "source": [
        "# Function to preprocess text\n",
        "def preprocess_text(text):\n",
        "    tokens = word_tokenize(text)\n",
        "    tokens = [token.lower() for token in tokens]\n",
        "    stop_words = set(stopwords.words('spanish'))\n",
        "    tokens = [token for token in tokens if token.isalnum() and\n",
        "              token not in stop_words]\n",
        "    return tokens\n",
        "\n",
        "# Preprocess comments column\n",
        "df['preprocessed_comments'] = df['data'].apply(preprocess_text)\n",
        "\n",
        "# Flatten the list of tokens\n",
        "tokens = [token for sublist in df['preprocessed_comments'] for\n",
        "          token in sublist]\n",
        "\n",
        "# Count word frequencies\n",
        "word_freq = Counter(tokens)\n",
        "\n",
        "# Get the most common words\n",
        "most_common_words = word_freq.most_common(10)\n",
        "\n",
        "# Plot word frequencies\n",
        "plt.figure(figsize=(10, 6))\n",
        "words, frequencies = zip(*most_common_words)\n",
        "plt.bar(words, frequencies)\n",
        "plt.title('Top 10 Most Common Words')\n",
        "plt.xlabel('Words')\n",
        "plt.ylabel('Frequency')\n",
        "plt.xticks(rotation=45)\n",
        "plt.show()\n",
        "\n",
        "# Generate word cloud\n",
        "wordcloud = WordCloud(width=800, height=400,\n",
        "                      background_color='white').generate_from_frequencies(\n",
        "                          dict(most_common_words))\n",
        "plt.figure(figsize=(10, 6))\n",
        "plt.imshow(wordcloud, interpolation='bilinear')\n",
        "plt.axis('off')\n",
        "plt.title('Word Cloud of Most Common Words')\n",
        "plt.show()"
      ],
      "metadata": {
        "id": "iCWMX8OKHbZC",
        "outputId": "bc90f4ff-0b89-422f-ede5-0f9a21722709",
        "colab": {
          "base_uri": "https://localhost:8080/",
          "height": 1000
        }
      },
      "execution_count": 6,
      "outputs": [
        {
          "output_type": "display_data",
          "data": {
            "text/plain": [
              "<Figure size 1000x600 with 1 Axes>"
            ],
            "image/png": "[encoded data removed]"
          },
          "metadata": {}
        },
        {
          "output_type": "display_data",
          "data": {
            "text/plain": [
              "<Figure size 1000x600 with 1 Axes>"
            ],
            "image/png": "[encoded data removed]"
          },
          "metadata": {}
        }
      ]
    },
    {
      "cell_type": "markdown",
      "source": [
        "From this results, we can interpret these words and extrapolate their meaning in this context:\n",
        "\n",
        "1. Dios - God: The Dominican Republic is a religious country, with Christianism as the most important religion. Expressions like \"Oh, God\", \"Oh, my God\" or regular condolences\n",
        "\n",
        "2. Justicia - Justice: As we would expect, this was a very solid case in terms of the precedents and the nature of the crime, so people would naturally be expecting a fast-clear outcome. But, it could also be a result of the social perception of the Justice's System. People might feel that if there are no strong demands for \"justice\" to be applied, a case might not be solved.\n",
        "\n",
        "3. Caso - Case: This is also following the previous idea, which provides more evidence for the reaction of demanding \"justice\".\n",
        "\n",
        "4. Pena - Sad or Sentence (Law): In this case, this word might refer to \"the feeling of profound sadness\" or \"the punishment imposed according to the law by judges or courts on those responsible for a crime or offense\" (Real Academia de la Lengua Española).\n",
        "\n",
        "5. Si - If. Probably due to the large amount of conditional statements.\n",
        "\n",
        "6. Vida - Life.\n",
        "\n",
        "7. Empresa - Company: Many comments might have been blaming and attacking the company for the way they handled the harassment complaint made by the victim.\n",
        "\n",
        "8. Joven - Young: The victim was young and it might be one of the biggest shocks and concerns.\n",
        "\n",
        "9. Alma - Soul: Religion and beliefs from the Dominican population again reflected here.\n",
        "\n",
        "10. Pobre - Poor: Could refer to being economically \"poor\" or feeling inmensely bad for the \"poor\" victim.\n",
        "\n"
      ],
      "metadata": {
        "id": "wXVvz0vGpfBm"
      }
    },
    {
      "cell_type": "markdown",
      "source": [
        "### 2.1.4 Concordance Analysis\n",
        "\n",
        "Now, let's apply concordance analysis to the top 10 words identified in the word frequency graph. This perspective would allow us to see the top words in context, to spot how they usually appear in the text."
      ],
      "metadata": {
        "id": "dt6BkVEOxFdp"
      }
    },
    {
      "cell_type": "code",
      "source": [
        "import pandas as pd\n",
        "import nltk\n",
        "from nltk.tokenize import word_tokenize\n",
        "from nltk.text import ConcordanceIndex\n",
        "\n",
        "# Top 10 words\n",
        "top_words = ['dios', 'justicia', 'caso', 'pena', 'si', 'vida', 'empresa',\n",
        "             'joven','alma','pobre']\n",
        "\n",
        "# Tokenize comments\n",
        "df['tokens'] = df['data'].apply(lambda x: word_tokenize(x.lower()))\n",
        "\n",
        "# Concatenate tokens from all comments\n",
        "all_tokens = [token for tokens in df['tokens'] for token in tokens]\n",
        "\n",
        "# Perform concordance analysis for each top word\n",
        "print(\"Concordance analysis for top 10 words:\")\n",
        "for word in top_words:\n",
        "    concordance_index = ConcordanceIndex(all_tokens)\n",
        "    concordance_index.print_concordance(word, width=50)\n",
        "    print(\"\\n\")"
      ],
      "metadata": {
        "id": "5jmN0PDvviZx",
        "colab": {
          "base_uri": "https://localhost:8080/"
        },
        "outputId": "f1edceed-fedb-4780-c082-df66de5de082"
      },
      "execution_count": 7,
      "outputs": [
        {
          "output_type": "stream",
          "name": "stdout",
          "text": [
            "Concordance analysis for top 10 words:\n",
            "Displaying 25 of 100 matches:\n",
            "s otros en este país . dios mio , como apagaron el\n",
            "lto y no la dejaron ay dios , esa noticia me ha ca\n",
            "nosé ahí hay algo raro dios que impotencia pobre c\n",
            "o podía cumplirlo papá dios líbrame padre esa tarj\n",
            "iene aterrada qué pena dios mío toma el control de\n",
            "ora y casi profesional dios que dolor tiene el pue\n",
            "nga que hacer justicia dios mio ten misericordia d\n",
            "s sólo tengo que decir dios me libre , porque yo c\n",
            "esto da una impotencia dios mio pobre chica dios n\n",
            "a dios mio pobre chica dios nos libre nuestros hij\n",
            " puede quedar impune . dios ! que pena deben sanci\n",
            "ación muy lamentable . dios mío justicia para esa \n",
            " quejas te despiden ay dios , pero que caso tan tr\n",
            "o tan triste ! ! ! que dios muestre los culpables \n",
            "n paz ! ! ! pobre niña dios mio wow que pena . que\n",
            "delante justicia ! que dios la tenga en gloria dio\n",
            "ios la tenga en gloria dios mio ya ni trabajando s\n",
            "doctor bye ️ que abuso dios mío k pena dios mío ! \n",
            " abuso dios mío k pena dios mío ! ! ! y la foto de\n",
            "acosador para cuando ? dios todo el k setira foto \n",
            " y sueños wow que pena dios mío que pena ojalá se \n",
            " dolor tiene esa madre dios mío dios sabe bien lo \n",
            "ene esa madre dios mío dios sabe bien lo que ha pa\n",
            "ean que la justicia de dios es justa muy penoso qu\n",
            " mi pobre paula waoooo dios mio asta cuando ! será\n",
            "\n",
            "\n",
            "Displaying 25 of 53 matches:\n",
            "a única forma que la justicia le resuelve al pobre\n",
            "caso no se quede sin justicia como muchos otros en\n",
            " se aclare y se haga justicia ! pobrecita quería v\n",
            " en su vida queremos justicia para esa joven traba\n",
            "os pobres no tenemos justicia en este país sólo lo\n",
            "sólo los ricos tiene justicia una joven trabajador\n",
            "o no tenga que hacer justicia dios mio ten miseric\n",
            "os hijos que se haga justicia aqui nadie sales a d\n",
            "amentable . dios mío justicia para esa joven desca\n",
            " muchos y se le haga justicia investiguen a fondo \n",
            "ndo para que se haga justicia como le tronchan tod\n",
            "una vida por delante justicia ! que dios la tenga \n",
            "alma que triste caso justicia @ juventudrd , @ min\n",
            "ena ojalá se le haga justicia paz a su alma kk cc \n",
            " lo mochen esperemos justicia ante este y muchos c\n",
            "asado y crean que la justicia de dios es justa muy\n",
            "sperando que se haga justicia y que esa persona qu\n",
            "nosotros 🇩🇴es que la justicia haga su trabajo , y \n",
            "uiere ultrajarnos ☹️ justicia divina🏻 que pena y t\n",
            "e caso , ella merece justicia ! ! ! tolentino cómo\n",
            "as mujeres brillante justicia que no quede impune \n",
            "rande padre dios mío justicia cada vez que miro es\n",
            "raciones que se haga justicia y que papa dios teng\n",
            "os padre . que hagan justicia . . ay dios dios mio\n",
            ". . ay dios dios mio justicia wow 🏻 dios mío que e\n",
            "\n",
            "\n",
            "Displaying 25 of 35 matches:\n",
            "ejar de hacer sonar el caso , hay que darle seguim\n",
            "no dejar de hablar del caso por favor . y según la\n",
            "ionaban . ojalá y este caso no se quede sin justic\n",
            " , qué pena me da este caso . esa empresa debe ser\n",
            "a pena me ha dado este caso ellos le robaron su su\n",
            "toma el control de ese caso porque los pobres no t\n",
            "cipal culpable de este caso , porque no hicieron n\n",
            "nunció y nadie le hizo caso , ahora van hacer un s\n",
            " sales a defender este caso . que tristeza . que p\n",
            "den ay dios , pero que caso tan triste ! ! ! que d\n",
            "co de consuelo que ese caso no lo engabeten como m\n",
            " seguimiento , como al caso del hijo del doctor by\n",
            " en el alma que triste caso justicia @ juventudrd \n",
            "sabe nada . ojalá esté caso no quede impune , y qu\n",
            "os de su ayuda en este caso , ella merece justicia\n",
            "ismos dios santo . ese caso si que me ha dado duro\n",
            "pena justicia que este caso no quede impune como o\n",
            "ue pena me ha dado ese caso por qué tienen que suc\n",
            "endo vida ajena y este caso mada orita dicen los j\n",
            "se investigue bien ese caso señores , estamos cons\n",
            " país así no puede ser caso inadmisible . descanse\n",
            "arse así no waooo este caso me causa un dolor . po\n",
            "io padre amado ️️ este caso me duele en el alma yo\n",
            "o siento mucho es otro caso muy triste y lamentabl\n",
            "o tan triste ante este caso , muerte tan cruel sol\n",
            "\n",
            "\n",
            "Displaying 25 of 36 matches:\n",
            ". pobre muchacha , qué pena me da este caso . esa \n",
            "ien fue el agresor que pena ahí debe de estar pres\n",
            "a pobre chica , cuanta pena me ha dado este caso e\n",
            " me tiene aterrada qué pena dios mío toma el contr\n",
            "ma que en este país la pena maxima es de 30 años q\n",
            " vida de esa joven que pena e impotencia dan esas \n",
            "o . que tristeza . que pena cuanta maldad en este \n",
            "ar impune . dios ! que pena deben sancionar la emp\n",
            " niña dios mio wow que pena . que lastima pobre jo\n",
            "️ que abuso dios mío k pena dios mío ! ! ! y la fo\n",
            " vida y sueños wow que pena dios mío que pena ojal\n",
            " que pena dios mío que pena ojalá se le haga justi\n",
            "s a sus familiares que pena mi pobre paula waoooo \n",
            " sitio oh dios mío que pena señor líbranos de todo\n",
            "lentino83 hay ombe que pena paz a su alma da lasti\n",
            "️ justicia divina🏻 que pena y triste lo que le hic\n",
            "roso dios mío que gran pena el que.ll.hizo @ nuria\n",
            " como muchos casos que pena la muerte de esta chic\n",
            "ios mio pobre niña que pena ayy jesus , tanta crue\n",
            " sus familiares amen k pena dios mío esa niña mira\n",
            "a cadena perpetua y la pena de muerte la sociedad \n",
            "ios mioo 🏼 dioosss que pena justicia que este caso\n",
            "cia por paula waoo que pena me ha dado ese caso po\n",
            "go mueren dios mío que pena muy doloroso , todos d\n",
            " mio paz a su alma que pena que pena , una joven c\n",
            "\n",
            "\n",
            "Displaying 25 of 29 matches:\n",
            "s de la forma más cruel si la familia de esa mucha\n",
            "na vez ya lo saben pero si no tienen la población \n",
            "ón para que se resuelva si no no se resuelve la pr\n",
            " tanto que públican que si ella esto y aquellos he\n",
            " los empleados no saben si trabajan con asesinos ,\n",
            "compañero se supone que si lo reporto a recursos h\n",
            "¿quién diablos es ? ... si las cámaras no funciona\n",
            "resas están de adorno , si te quejas te despiden a\n",
            "culpables por no mediar si no lo querían despedir \n",
            "es rebatan la vida como si fueran moscas por no of\n",
            "o con el mismo cuento , si hubiese sido 1 lapicero\n",
            "icero de la empresa ahi si estan todas las camaras\n",
            "os negándole atención , si hubiese sido a la hija \n",
            "sale un demanda que lío si fuera un robo a ellos m\n",
            "ismo o un jefe de ellos si funcionará . solamente \n",
            "s dios santo . ese caso si que me ha dado duro que\n",
            " matan una persona como si fueron ellos que lo cre\n",
            "29 años y la cuido como si fuera una niña demasiad\n",
            "jar se puede ... porque si no hay algún acosador ?\n",
            "y algún acosador ? .... si denuncias lo toman como\n",
            " buscaba donde quiera y si los demás niños estaban\n",
            " esta penado por la ley si ella lo denunció porque\n",
            "ericordia de este mundo si supuestamente ella le h\n",
            "esos hijo del dblo pero si fue violada como dice l\n",
            "a noticia y yo creo que si , que fue violada , los\n",
            "\n",
            "\n",
            "Displaying 25 of 29 matches:\n",
            "l nombre de el cosa de vida , estar muerto para da\n",
            "tunidad y ayudar en su vida queremos justicia para\n",
            "rrecta le arrebaten la vida , ojalá y den con los \n",
            "rgo para acabar con la vida de esa joven que pena \n",
            "e quien se le llevo la vida debe pagar con la suya\n",
            " en ese lugar avece la vida es un poco injusta est\n",
            "una joven con toda una vida por delante justicia !\n",
            "por lok iso kitarle la vida a esa pobre muchacha y\n",
            "pobre muchacha yena de vida y sueños wow que pena \n",
            "iedad y les rebatan la vida como si fueran moscas \n",
            "e dinero esos viven su vida felices como reyes dio\n",
            "inicana ? perderse una vida así hasta cuando dios \n",
            "e sin alma le quite la vida a una joven con deseos\n",
            " derecho a quitarle la vida a nadie . dios mio que\n",
            " sin madre le quita la vida ... justicia el día qu\n",
            "y kos chime y viviendo vida ajena y este caso mada\n",
            "una joven con toda una vida por delante y un buen \n",
            " mundo tristemente una vida mas que impotencia , q\n",
            "plinada para perder su vida en esta situación jeho\n",
            "ue todo lo ve y que la vida es como un restaurante\n",
            " su familia pierdan la vida de una forma tan trági\n",
            " de sueños le apagaron vida la justicia terrenal f\n",
            "emonios le quitaron la vida sin remordimientos alg\n",
            "so tan joven y llena d vida waoooo dios que pena ,\n",
            "la queria hacer con su vida porque no hay nombre o\n",
            "\n",
            "\n",
            "Displaying 25 of 29 matches:\n",
            "r favor . y según la empresa , las cámaras del en\n",
            "ue las cámaras de la empresa dique estaban apagad\n",
            "cosador ? por qué la empresa no entrega las cámar\n",
            "e da este caso . esa empresa debe ser investigada\n",
            "uncionen y de que la empresa no haya denunciado c\n",
            "ie pague por esto la empresa es la principal culp\n",
            "a deben sancionar la empresa y los sospechosos in\n",
            "uele que demanden la empresa son lo culpables por\n",
            " k las camara de una empresa no funciones eso es \n",
            "lo que sea , pero la empresa está involucrada por\n",
            "ido 1 lapicero de la empresa ahi si estan todas l\n",
            "de impune , y que la empresa también responda por\n",
            "na mega demanda a la empresa , al menos que despu\n",
            "deben presionar a la empresa , para que entreguen\n",
            "áleca la familia esa empresa le sale un demanda q\n",
            "s estar frente a esa empresa pidiendo culpables c\n",
            "oven que tristeza la empresa que trabajan de noch\n",
            "ué las cámaras de la empresa solo funcionan para \n",
            "lo funcionan para la empresa no funciona para los\n",
            " inconveniente en la empresa ... pero dios le dar\n",
            "o con relaciones con empresa y la empresa .. no e\n",
            "nes con empresa y la empresa .. no es claro la ac\n",
            "o la actitud de esta empresa ! ! ! ! debe ser inv\n",
            "rado algunos de esta empresa ? ? ? cielos porque \n",
            "q hi ablan rapido la empresa es tan responsable e\n",
            "\n",
            "\n",
            "Displaying 25 of 28 matches:\n",
            "garon el sueño de esa joven , a ley de 4 meses pa\n",
            "mos justicia para esa joven trabajadora murió en \n",
            "os tiene justicia una joven trabajadora y casi pr\n",
            "ar con la vida de esa joven que pena e impotencia\n",
            " pueblo ay ombe pobre joven espero se sepa algo y\n",
            "riste y de qué manera joven con presente y futuro\n",
            "mío justicia para esa joven descanso eterno para \n",
            "a . que lastima pobre joven espero que encuentren\n",
            "n todo sus sueños una joven con toda una vida por\n",
            " por su de apoyo a la joven . pobre chica que tri\n",
            "e quite la vida a una joven con deseos de echar a\n",
            " mio no conocia a esa joven pero que tristeza me \n",
            "a cuantas tristeza un joven con tanta aspiracione\n",
            "nes hicieron eso a es joven lo agarren y también \n",
            "ar en defensa de esta joven que tristeza la empre\n",
            "que parte el alma una joven con toda una vida por\n",
            "ble y paz alma de esa joven dios mío ten miserico\n",
            "ele don esa brillante joven dios mio paz a su alm\n",
            "e pena que pena , una joven con tantos sueños y d\n",
            "ánta tristeza por esa joven , que pena justicia .\n",
            "res justicia para esa joven , que trabaja para es\n",
            "s te ara justicia una joven llena de sueños le ap\n",
            "a que pena da eso tan joven y llena d vida waoooo\n",
            " muy penoso el de esa joven .. esto cada vez más \n",
            " ? justicia para esta joven . que impotencia dios\n",
            "\n",
            "\n",
            "Displaying 24 of 24 matches:\n",
            "uy lamentable paz a su alma y fortaleza para toda \n",
            "cuando pasa , paz a su alma . ese acto de violenci\n",
            "el culpable omgpaz asu alma ke triste el tipo tien\n",
            " culpables para que su alma pueda descansar en paz\n",
            "o sobre me duele en el alma que triste caso justic\n",
            "haga justicia paz a su alma kk cc lo mochen espere\n",
            " mataron esto rompe el alma , las personas buenas \n",
            " lamentable , paz a su alma ahora nadie quiere dec\n",
            "ombe que pena paz a su alma da lastima que una per\n",
            "oso que un salvaje sin alma le quite la vida a una\n",
            "rendo hecho . paz a su alma ️ yo espero en dios qu\n",
            "orazon eso me parte el alma duele cuando es pobre \n",
            "a en paz️ eso parte el alma que se haga justicia p\n",
            "haga justicia paz a su alma que aparezca el culpab\n",
            "dios mio esto parte el alma dios mío ! justicia ⚖️\n",
            "situación que parte el alma una joven con toda una\n",
            "dida irreparable y paz alma de esa joven dios mío \n",
            "oven dios mio paz a su alma que pena que pena , un\n",
            "que en paz descanse su alma , y consuelo a su fami\n",
            " sirve eso me parte el alma , todas somos paula , \n",
            "rá mucho miedo paz asu alma y fortaleza para todos\n",
            "te caso me duele en el alma yo tengo mi princesa d\n",
            "ponsables eso parte el alma ella tenía novio que i\n",
            "isericordia ! paz a su alma dios mío padre amado a\n",
            "\n",
            "\n",
            "Displaying 20 of 20 matches:\n",
            "sticia le resuelve al pobre , no dejar de hablar \n",
            "dad ? para ayudarla . pobre muchacha , qué pena m\n",
            "o dios que impotencia pobre chica , cuanta pena m\n",
            "zca la cámara diantre pobre muchacha no pudo real\n",
            " de tu pueblo ay ombe pobre joven espero se sepa \n",
            "rd ahi hay algo más , pobre muchacha muertes así \n",
            "a impotencia dios mio pobre chica dios nos libre \n",
            "escansar en paz ! ! ! pobre niña dios mio wow que\n",
            "ue pena . que lastima pobre joven espero que encu\n",
            " señor líbranos señor pobre niña tenía ya el esti\n",
            "kitarle la vida a esa pobre muchacha yena de vida\n",
            "amiliares que pena mi pobre paula waoooo dios mio\n",
            "hasta cuando dios mio pobre muchacha dios como ll\n",
            "de apoyo a la joven . pobre chica que tristeza es\n",
            "il asesinato dios mio pobre niña que pena ayy jes\n",
            " alma duele cuando es pobre y lo que busca es la \n",
            "ción a los familiares pobre niña me da un pique n\n",
            "amás deberían suceder pobre madre no existen pala\n",
            "y van a exprimir a la pobre muchacha hasta más no\n",
            "da para ayudar a esta pobre mujer ... un ser huma\n",
            "\n",
            "\n"
          ]
        }
      ]
    },
    {
      "cell_type": "markdown",
      "source": [
        "## 2.2 Sentiment Analysis"
      ],
      "metadata": {
        "id": "W0039gXhqgob"
      }
    },
    {
      "cell_type": "markdown",
      "source": [
        "### 2.2.1 Sentiment Analysis using TextBlob"
      ],
      "metadata": {
        "id": "53798ag6FLeF"
      }
    },
    {
      "cell_type": "markdown",
      "source": [
        "For this task, the overall sentiment of the dataset is being analysed using TextBlob. The polarity score is a float within the range [-1.0, 1.0].\n",
        "\n",
        "This algorithm is trained to work in English corpus, so it's not suitable for our dataset. However, we can use Google Translator to translate our comments and then apply TextBlob."
      ],
      "metadata": {
        "id": "KFo3LdIDBBph"
      }
    },
    {
      "cell_type": "code",
      "source": [
        "from deep_translator import GoogleTranslator\n",
        "\n",
        "# Define function to translate comments\n",
        "def translate_text(text):\n",
        "    translation = GoogleTranslator(source='es',\n",
        "                              target='en').translate(\n",
        "                                  text)\n",
        "    return translation\n",
        "\n",
        "# Translate comments from Spanish to English\n",
        "df['translated_comments'] = df['data'].apply(translate_text)\n",
        "\n",
        "# Function to calculate sentiment score using TextBlob\n",
        "def calculate_sentiment(text):\n",
        "    blob = TextBlob(text)\n",
        "    return blob.sentiment.polarity\n",
        "\n",
        "# Perform sentiment analysis on each comment\n",
        "sentiment_scores = []\n",
        "for index, row in df.iterrows():\n",
        "    comment_text = row['translated_comments']\n",
        "    if isinstance(comment_text, str) and comment_text.strip():\n",
        "        blob = TextBlob(comment_text)\n",
        "        sentiment_score = blob.sentiment.polarity\n",
        "        sentiment_scores.append(sentiment_score)\n",
        "    else:\n",
        "        sentiment_scores.append(None)\n",
        "\n",
        "# Aggregate sentiment scores to get an overall sentiment score\n",
        "# for the crime news post\n",
        "valid_sentiment_scores = [score for score in\n",
        "                          sentiment_scores if score is not None]\n",
        "\n",
        "# Calculate overall sentiment score\n",
        "if valid_sentiment_scores:\n",
        "    overall_sentiment_score = sum(valid_sentiment_scores) /\n",
        "    len(valid_sentiment_scores)\n",
        "else:\n",
        "    overall_sentiment_score = None\n",
        "print(\"Overall Sentiment Score:\", overall_sentiment_score)"
      ],
      "metadata": {
        "colab": {
          "base_uri": "https://localhost:8080/"
        },
        "id": "4TCySMkG1Y6k",
        "outputId": "c0ee2a9f-8ece-4acc-cd72-62a00a577283"
      },
      "execution_count": 30,
      "outputs": [
        {
          "output_type": "stream",
          "name": "stdout",
          "text": [
            "Overall Sentiment Score: -0.05466377966035726\n"
          ]
        }
      ]
    },
    {
      "cell_type": "markdown",
      "source": [
        "After receiving a negative (-0.055) which shows a slightly negative sentiment. I suspect that the algorithm doesn't work well on this dataset.\n",
        "\n",
        "Let's check different comments individually to judge whether the result is acceptable."
      ],
      "metadata": {
        "id": "9tHKE1pzDvLi"
      }
    },
    {
      "cell_type": "code",
      "source": [
        "comment_text = \"😢Dios mio, como apagaron el sueño de esa joven,😢\"\n",
        "translated = GoogleTranslator(source='es',\n",
        "                              target='en').translate(\n",
        "                                  comment_text)\n",
        "blob = TextBlob(translated)\n",
        "sentiment_score = blob.sentiment.polarity\n",
        "print(sentiment_score)\n",
        "print(translated) # print translation"
      ],
      "metadata": {
        "id": "F2ktGLUpDP-c",
        "outputId": "8ceab814-36b0-4c80-b567-d53a7c1eb14a",
        "colab": {
          "base_uri": "https://localhost:8080/"
        }
      },
      "execution_count": 43,
      "outputs": [
        {
          "output_type": "stream",
          "name": "stdout",
          "text": [
            "0.1\n",
            "My God, how did they extinguish that young woman's dream?\n"
          ]
        }
      ]
    },
    {
      "cell_type": "markdown",
      "source": [
        "We get a sentiment score of 0.1, showing it's slightly positive, which is not right."
      ],
      "metadata": {
        "id": "l3pTjNedGd8M"
      }
    },
    {
      "cell_type": "code",
      "source": [
        "comment_text = \"Ay Dios, esa noticia me ha caído tan mal. 😞\"\n",
        "translated = GoogleTranslator(source='es',\n",
        "                              target='en').translate(\n",
        "                                  comment_text)\n",
        "blob = TextBlob(translated)\n",
        "sentiment_score = blob.sentiment.polarity\n",
        "print(sentiment_score)\n",
        "print(translated)\n",
        "# We get a sentime score of -0.30, showing it's negative,\n",
        "# which seems okay."
      ],
      "metadata": {
        "id": "Egt5S_G_hMyW",
        "colab": {
          "base_uri": "https://localhost:8080/"
        },
        "outputId": "34de1e4b-3e4c-47d2-9288-700bba9b05a4"
      },
      "execution_count": 39,
      "outputs": [
        {
          "output_type": "stream",
          "name": "stdout",
          "text": [
            "-0.2916666666666667\n",
            "Oh God, that news hit me so hard. 😞\n"
          ]
        }
      ]
    },
    {
      "cell_type": "markdown",
      "source": [
        "We get a sentime score of -0.30, showing it's slightly negative, but it should be maybe more negative."
      ],
      "metadata": {
        "id": "xD2Pvn_LGl6P"
      }
    },
    {
      "cell_type": "code",
      "source": [
        "comment_text = \"Diantre pobre muchacha no pudo realizar sus \\\n",
        "sueños 😢😔por unos azarosos…\"\n",
        "translated = GoogleTranslator(source='es',\n",
        "                              target='en').translate(\n",
        "                                  comment_text)\n",
        "blob = TextBlob(translated)\n",
        "sentiment_score = blob.sentiment.polarity\n",
        "print(sentiment_score)\n",
        "print(translated)"
      ],
      "metadata": {
        "id": "B7D5Yi3BhNfJ",
        "outputId": "4d3ac72b-90be-434d-e899-2bf00adc959e",
        "colab": {
          "base_uri": "https://localhost:8080/"
        }
      },
      "execution_count": 47,
      "outputs": [
        {
          "output_type": "stream",
          "name": "stdout",
          "text": [
            "-0.18333333333333335\n",
            "Damn poor girl couldn't make her dreams come true 😢😔 because of some random people...\n"
          ]
        }
      ]
    },
    {
      "cell_type": "markdown",
      "source": [
        "We get a sentiment score of -0.18, showing slightly negative sentiment."
      ],
      "metadata": {
        "id": "-fqhRC5KG1AX"
      }
    },
    {
      "cell_type": "code",
      "source": [
        "comment_text = \"Si la familia de ESA muchacha tiene dinero se resuelve \\\n",
        "de una vez ya lo saben pero si no tienen la población debe meter presión \\\n",
        "para que se resuelva si no no se resuelve\"\n",
        "translated = GoogleTranslator(source='es',\n",
        "                              target='en').translate(\n",
        "                                  comment_text)\n",
        "blob = TextBlob(translated)\n",
        "sentiment_score = blob.sentiment.polarity\n",
        "print(sentiment_score)\n",
        "print(translated)"
      ],
      "metadata": {
        "id": "s5swPgFzhOJW",
        "colab": {
          "base_uri": "https://localhost:8080/"
        },
        "outputId": "b89f4771-8b83-47b7-80ba-1d8320c746b8"
      },
      "execution_count": 48,
      "outputs": [
        {
          "output_type": "stream",
          "name": "stdout",
          "text": [
            "0.0\n",
            "If THAT girl's family has money, it can be resolved once and for all, they already know it, but if they don't, the population must put pressure on it to resolve it, if not, it cannot be resolved.\n"
          ]
        }
      ]
    },
    {
      "cell_type": "markdown",
      "source": [
        "We get a sentiment score of 0.0, showing it's neutral, which doesn't seem to be accurate, and it shows that the algorithm might not work well on long comments."
      ],
      "metadata": {
        "id": "TC_gI0bTG_ui"
      }
    },
    {
      "cell_type": "code",
      "source": [
        "comment_text = \"Pobre muchacha, qué pena me da este caso.😢\"\n",
        "translated = GoogleTranslator(source='es',\n",
        "                              target='en').translate(\n",
        "                                  comment_text)\n",
        "blob = TextBlob(translated)\n",
        "sentiment_score = blob.sentiment.polarity\n",
        "print(sentiment_score)\n",
        "print(translated)\n",
        "# This one seems to be okay, and it shows a particular\n",
        "# common use of words."
      ],
      "metadata": {
        "colab": {
          "base_uri": "https://localhost:8080/"
        },
        "id": "UoHW6ZngEBYo",
        "outputId": "c0eca3cd-95e3-42e1-cc39-a6f40a6e659f"
      },
      "execution_count": 44,
      "outputs": [
        {
          "output_type": "stream",
          "name": "stdout",
          "text": [
            "-0.45\n",
            "Poor girl, how sad this case makes me.😢\n"
          ]
        }
      ]
    },
    {
      "cell_type": "markdown",
      "source": [
        "This one seems to be okay, and it shows a particular common use of adjectives and adverbs to express negative emotions (sadness in this case)."
      ],
      "metadata": {
        "id": "M3_Rm0o6HPrp"
      }
    },
    {
      "cell_type": "code",
      "source": [
        "comment_text = \"Y según la empresa, las cámaras del entorno donde \\\n",
        "fue encontrada no funcionaban. Ojalá y este caso no se quede sin justicia \\\n",
        "como muchos otros en este país.\"\n",
        "translated = GoogleTranslator(source='es',\n",
        "                              target='en').translate(\n",
        "                                  comment_text)\n",
        "blob = TextBlob(translated)\n",
        "sentiment_score = blob.sentiment.polarity\n",
        "print(sentiment_score)\n",
        "print(translated)"
      ],
      "metadata": {
        "colab": {
          "base_uri": "https://localhost:8080/"
        },
        "id": "T2ryfnNQEuYq",
        "outputId": "8adf3c95-45dc-42ab-d02f-cdffb8f7c009"
      },
      "execution_count": 49,
      "outputs": [
        {
          "output_type": "stream",
          "name": "stdout",
          "text": [
            "0.25\n",
            "And according to the company, the cameras in the area where she was found were not working. Hopefully this case will not be left without justice like many others in this country.\n"
          ]
        }
      ]
    },
    {
      "cell_type": "markdown",
      "source": [
        "This obtains a positive score, which might not be right. The reason for this could be that the person used the word \"Ojalá\" which *denotes a strong desire for something to happen* (Real Academia Española). But, in this context, the person wants the case to be solved, not like many others that were left unsolved, which might be a negative sentiment more than positive. Of course, this idea might be too ambigous for the algorithm to identify."
      ],
      "metadata": {
        "id": "0mvE8Hm2HmwP"
      }
    },
    {
      "cell_type": "markdown",
      "source": [
        "In general, the code works well in some instances, especially for short comments with a common usage of language. But for others, especially long comments or comments with non common usage of language or ambigous words, it doesn't work so well or it might misclassify."
      ],
      "metadata": {
        "id": "70chIGMr_o-V"
      }
    },
    {
      "cell_type": "markdown",
      "source": [
        "### 2.2.2 Sentiment Analysis using Sentiment-Spanish Library"
      ],
      "metadata": {
        "id": "DRSTJGimH3qk"
      }
    },
    {
      "cell_type": "markdown",
      "source": [
        "Let's apply sentiment-spanish, which is a python library that uses convolutional neural networks to predict the sentiment of spanish sentences. The function sentiment(text) returns a number between 0 and 1. This is the probability of string variable text of being \"positive\"."
      ],
      "metadata": {
        "id": "4KKg1eaaHj5j"
      }
    },
    {
      "cell_type": "code",
      "source": [
        "!pip install sentiment-analysis-spanish\n",
        "!pip install keras tensorflow\n",
        "from sentiment_analysis_spanish import sentiment_analysis\n",
        "\n",
        "sentiment = sentiment_analysis.SentimentAnalysisSpanish()\n",
        "\n",
        "# Function to calculate sentiment score using SentimentAnalysisSpanish\n",
        "def calculate_sentiment_score(text):\n",
        "    return sentiment.sentiment(text)\n",
        "\n",
        "# Calculate sentiment score for original comments\n",
        "sentiment_scores = df['data'].apply(calculate_sentiment_score)\n",
        "\n",
        "# Aggregate sentiment scores\n",
        "overall_sentiment_score = sentiment_scores.mean(skipna = True)\n",
        "\n",
        "print(\"Overall Sentiment Score:\", overall_sentiment_score)"
      ],
      "metadata": {
        "id": "hV8yjG7KVXk-",
        "outputId": "6aaac98e-cb6d-4c08-e932-7037337fac80",
        "colab": {
          "base_uri": "https://localhost:8080/"
        }
      },
      "execution_count": 41,
      "outputs": [
        {
          "output_type": "stream",
          "name": "stdout",
          "text": [
            "Requirement already satisfied: sentiment-analysis-spanish in /usr/local/lib/python3.10/dist-packages (0.0.25)\n",
            "Requirement already satisfied: keras in /usr/local/lib/python3.10/dist-packages (2.15.0)\n",
            "Requirement already satisfied: tensorflow in /usr/local/lib/python3.10/dist-packages (2.15.0)\n",
            "Requirement already satisfied: absl-py>=1.0.0 in /usr/local/lib/python3.10/dist-packages (from tensorflow) (1.4.0)\n",
            "Requirement already satisfied: astunparse>=1.6.0 in /usr/local/lib/python3.10/dist-packages (from tensorflow) (1.6.3)\n",
            "Requirement already satisfied: flatbuffers>=23.5.26 in /usr/local/lib/python3.10/dist-packages (from tensorflow) (24.3.25)\n",
            "Requirement already satisfied: gast!=0.5.0,!=0.5.1,!=0.5.2,>=0.2.1 in /usr/local/lib/python3.10/dist-packages (from tensorflow) (0.5.4)\n",
            "Requirement already satisfied: google-pasta>=0.1.1 in /usr/local/lib/python3.10/dist-packages (from tensorflow) (0.2.0)\n",
            "Requirement already satisfied: h5py>=2.9.0 in /usr/local/lib/python3.10/dist-packages (from tensorflow) (3.9.0)\n",
            "Requirement already satisfied: libclang>=13.0.0 in /usr/local/lib/python3.10/dist-packages (from tensorflow) (18.1.1)\n",
            "Requirement already satisfied: ml-dtypes~=0.2.0 in /usr/local/lib/python3.10/dist-packages (from tensorflow) (0.2.0)\n",
            "Requirement already satisfied: numpy<2.0.0,>=1.23.5 in /usr/local/lib/python3.10/dist-packages (from tensorflow) (1.25.2)\n",
            "Requirement already satisfied: opt-einsum>=2.3.2 in /usr/local/lib/python3.10/dist-packages (from tensorflow) (3.3.0)\n",
            "Requirement already satisfied: packaging in /usr/local/lib/python3.10/dist-packages (from tensorflow) (24.0)\n",
            "Requirement already satisfied: protobuf!=4.21.0,!=4.21.1,!=4.21.2,!=4.21.3,!=4.21.4,!=4.21.5,<5.0.0dev,>=3.20.3 in /usr/local/lib/python3.10/dist-packages (from tensorflow) (3.20.3)\n",
            "Requirement already satisfied: setuptools in /usr/local/lib/python3.10/dist-packages (from tensorflow) (67.7.2)\n",
            "Requirement already satisfied: six>=1.12.0 in /usr/local/lib/python3.10/dist-packages (from tensorflow) (1.16.0)\n",
            "Requirement already satisfied: termcolor>=1.1.0 in /usr/local/lib/python3.10/dist-packages (from tensorflow) (2.4.0)\n",
            "Requirement already satisfied: typing-extensions>=3.6.6 in /usr/local/lib/python3.10/dist-packages (from tensorflow) (4.10.0)\n",
            "Requirement already satisfied: wrapt<1.15,>=1.11.0 in /usr/local/lib/python3.10/dist-packages (from tensorflow) (1.14.1)\n",
            "Requirement already satisfied: tensorflow-io-gcs-filesystem>=0.23.1 in /usr/local/lib/python3.10/dist-packages (from tensorflow) (0.36.0)\n",
            "Requirement already satisfied: grpcio<2.0,>=1.24.3 in /usr/local/lib/python3.10/dist-packages (from tensorflow) (1.62.1)\n",
            "Requirement already satisfied: tensorboard<2.16,>=2.15 in /usr/local/lib/python3.10/dist-packages (from tensorflow) (2.15.2)\n",
            "Requirement already satisfied: tensorflow-estimator<2.16,>=2.15.0 in /usr/local/lib/python3.10/dist-packages (from tensorflow) (2.15.0)\n",
            "Requirement already satisfied: wheel<1.0,>=0.23.0 in /usr/local/lib/python3.10/dist-packages (from astunparse>=1.6.0->tensorflow) (0.43.0)\n",
            "Requirement already satisfied: google-auth<3,>=1.6.3 in /usr/local/lib/python3.10/dist-packages (from tensorboard<2.16,>=2.15->tensorflow) (2.27.0)\n",
            "Requirement already satisfied: google-auth-oauthlib<2,>=0.5 in /usr/local/lib/python3.10/dist-packages (from tensorboard<2.16,>=2.15->tensorflow) (1.2.0)\n",
            "Requirement already satisfied: markdown>=2.6.8 in /usr/local/lib/python3.10/dist-packages (from tensorboard<2.16,>=2.15->tensorflow) (3.6)\n",
            "Requirement already satisfied: requests<3,>=2.21.0 in /usr/local/lib/python3.10/dist-packages (from tensorboard<2.16,>=2.15->tensorflow) (2.31.0)\n",
            "Requirement already satisfied: tensorboard-data-server<0.8.0,>=0.7.0 in /usr/local/lib/python3.10/dist-packages (from tensorboard<2.16,>=2.15->tensorflow) (0.7.2)\n",
            "Requirement already satisfied: werkzeug>=1.0.1 in /usr/local/lib/python3.10/dist-packages (from tensorboard<2.16,>=2.15->tensorflow) (3.0.1)\n",
            "Requirement already satisfied: cachetools<6.0,>=2.0.0 in /usr/local/lib/python3.10/dist-packages (from google-auth<3,>=1.6.3->tensorboard<2.16,>=2.15->tensorflow) (5.3.3)\n",
            "Requirement already satisfied: pyasn1-modules>=0.2.1 in /usr/local/lib/python3.10/dist-packages (from google-auth<3,>=1.6.3->tensorboard<2.16,>=2.15->tensorflow) (0.4.0)\n",
            "Requirement already satisfied: rsa<5,>=3.1.4 in /usr/local/lib/python3.10/dist-packages (from google-auth<3,>=1.6.3->tensorboard<2.16,>=2.15->tensorflow) (4.9)\n",
            "Requirement already satisfied: requests-oauthlib>=0.7.0 in /usr/local/lib/python3.10/dist-packages (from google-auth-oauthlib<2,>=0.5->tensorboard<2.16,>=2.15->tensorflow) (1.4.1)\n",
            "Requirement already satisfied: charset-normalizer<4,>=2 in /usr/local/lib/python3.10/dist-packages (from requests<3,>=2.21.0->tensorboard<2.16,>=2.15->tensorflow) (3.3.2)\n",
            "Requirement already satisfied: idna<4,>=2.5 in /usr/local/lib/python3.10/dist-packages (from requests<3,>=2.21.0->tensorboard<2.16,>=2.15->tensorflow) (2.10)\n",
            "Requirement already satisfied: urllib3<3,>=1.21.1 in /usr/local/lib/python3.10/dist-packages (from requests<3,>=2.21.0->tensorboard<2.16,>=2.15->tensorflow) (2.0.7)\n",
            "Requirement already satisfied: certifi>=2017.4.17 in /usr/local/lib/python3.10/dist-packages (from requests<3,>=2.21.0->tensorboard<2.16,>=2.15->tensorflow) (2024.2.2)\n",
            "Requirement already satisfied: MarkupSafe>=2.1.1 in /usr/local/lib/python3.10/dist-packages (from werkzeug>=1.0.1->tensorboard<2.16,>=2.15->tensorflow) (2.1.5)\n",
            "Requirement already satisfied: pyasn1<0.7.0,>=0.4.6 in /usr/local/lib/python3.10/dist-packages (from pyasn1-modules>=0.2.1->google-auth<3,>=1.6.3->tensorboard<2.16,>=2.15->tensorflow) (0.6.0)\n",
            "Requirement already satisfied: oauthlib>=3.0.0 in /usr/local/lib/python3.10/dist-packages (from requests-oauthlib>=0.7.0->google-auth-oauthlib<2,>=0.5->tensorboard<2.16,>=2.15->tensorflow) (3.2.2)\n",
            "Overall Sentiment Score: 0.23349619161771534\n"
          ]
        }
      ]
    },
    {
      "cell_type": "markdown",
      "source": [
        "In this case, we receive a neutral value 0.23 (not close to zero nor 1). This might be do to the fact that the model was trained on user rate reviews (itenedor, decathlon, tripadvisor, filmaffinity and ebay), and the usage of language might differ from the crime news comments."
      ],
      "metadata": {
        "id": "MFjH6ANFIKAW"
      }
    },
    {
      "cell_type": "markdown",
      "source": [
        "## 2.3 Topic Modeling Analysis: Latent Dirichlet Allocation"
      ],
      "metadata": {
        "id": "0ocganbIAG7A"
      }
    },
    {
      "cell_type": "markdown",
      "source": [
        "Now, let's apply a topic modeling technique, Latent Dirichlet Allocation (LDA), to extract topics from the corpus."
      ],
      "metadata": {
        "id": "jesnw20yCglp"
      }
    },
    {
      "cell_type": "code",
      "source": [
        "from sklearn.feature_extraction.text import CountVectorizer\n",
        "from sklearn.decomposition import LatentDirichletAllocation\n",
        "from nltk.corpus import stopwords\n",
        "import pandas as pd\n",
        "\n",
        "df = pd.read_csv('diariolibre1.csv')\n",
        "df['data'] = df['data'].astype('str')\n",
        "\n",
        "# Function to preprocess text and remove stop words\n",
        "def preprocess_and_remove_stopwords(text):\n",
        "    tokens = text.split()\n",
        "    cleaned_tokens = [token.lower().strip('.,?!') for\n",
        "                      token in tokens\n",
        "                      if token.lower().strip('.,?!')\n",
        "                      not in stopwords.words('spanish')]\n",
        "    return ' '.join(cleaned_tokens)\n",
        "\n",
        "# Preprocess comments and remove stop words\n",
        "df['data'] = df['data'].apply(preprocess_and_remove_stopwords)\n",
        "\n",
        "# Vectorize the text data\n",
        "vectorizer = CountVectorizer()\n",
        "X = vectorizer.fit_transform(df['data'])\n",
        "\n",
        "# Train the LDA model\n",
        "lda_model = LatentDirichletAllocation(n_components=10, max_iter=10,\n",
        "                                      learning_method='online',\n",
        "                                      random_state=42)\n",
        "lda_model.fit(X)\n",
        "\n",
        "# Get the top words for each topic\n",
        "def get_top_words(model, feature_names, n_top_words):\n",
        "    top_words = []\n",
        "    for topic_idx, topic in enumerate(model.components_):\n",
        "        top_words.append([feature_names[i]\n",
        "                          for i in topic.argsort()[:-n_top_words - 1:-1]])\n",
        "    return top_words\n",
        "\n",
        "n_top_words = 10  # Number of top words to display for each topic\n",
        "feature_names = vectorizer.get_feature_names_out()\n",
        "\n",
        "# Display top words for each topic\n",
        "top_words = get_top_words(lda_model, feature_names, n_top_words)\n",
        "for i, words in enumerate(top_words):\n",
        "    print(f\"Topic {i + 1}: {' '.join(words)}\")"
      ],
      "metadata": {
        "id": "QhnhvOJEgHbi",
        "outputId": "90776831-cace-426a-a7d7-ca66ea59d093",
        "colab": {
          "base_uri": "https://localhost:8080/"
        }
      },
      "execution_count": 42,
      "outputs": [
        {
          "output_type": "stream",
          "name": "stdout",
          "text": [
            "Topic 1: impune quede así justicia caso nuriapiera aliciaortegah puede quedar joven\n",
            "Topic 2: política rd antemano viene veces van ocultado legislativos dirige leyes\n",
            "Topic 3: si empresa humanos familia debe recursos justicia caso foto sociedad\n",
            "Topic 4: paz alma joven justicia dios país familia caso lamentable muerte\n",
            "Topic 5: misericordia dios ten señor padre mundo amado oh familiares líbranos\n",
            "Topic 6: saber amén violada seguro dejó olvido quiénes asesino tecnología violador\n",
            "Topic 7: pena dios vida pobre caso sueños triste da muerte joven\n",
            "Topic 8: dios justicia mio haga nadie país hijo libre tanta padre\n",
            "Topic 9: mundo personas investiguen si serca jóvenes valores niños malas evitar\n",
            "Topic 10: justicia empresa pueblo joven vida raro debe cámaras divina cámara\n"
          ]
        }
      ]
    },
    {
      "cell_type": "markdown",
      "source": [
        "The results of the model provide more context into why the most common words were found in the descrptive analysis.\n",
        "\n",
        "The topic 1 shows that when people talk about \"justice\" they also are worried about \"impunity\", or the case not being solved. They also mention \"Alicia Ortega\" and \"Nuria Piera\", who are the most influential journalists of the country, receiving a lot of respect from the population. Both have investigated many cases of different nature and have provided sufficient evidence to make a case. In this sense, we can sense how people perceive the Justice System as being so weak that they expect third-parties to participate and help solve the case.\n",
        "\n",
        "The second topic is also interesting, and could be an initital point to start thinking about how to model people's opinions on public matters to motivate policy changes. It might refer to the politics or politician responsibilities regarding the legislative frameworks that regulate harassment issues.\n",
        "\n",
        "The model's findings offer valuable insights into the underlying reasons behind the commonality of the words identified in the descriptive analysis.\n",
        "\n",
        "Topic 1 sheds light on the correlation between discussions about \"justice\" and concerns regarding \"impunity\" which refers to the potential lack of these type of cases not being solved. Moreover, it contains the names of the two most influential journalists of the country:  \"Alicia Ortega\" and \"Nuria Piera\". Renowned for their investigative prowess across various cases, these journalists are perceived as pivotal figures capable of substantiating claims with compelling evidence. This observation hints at a prevailing sentiment regarding the perceived weakness of the Justice System, motivating people to claim from help to external actors in order for cases to be solved.\n",
        "\n",
        "Equally noteworthy is the second topic, which presents an intriguing avenue for exploring public sentiments on societal issues—a crucial step in catalyzing policy changes. This topic likely refers to discussions surrounding political accountability and the responsibilities of policymakers in developing legislative frameworks and its application to address harassment issues effectively.\n",
        "\n",
        "These insights not only deepen our understanding of public perceptions but also provide a starting point for modeling opinions on public matters—a pivotal endeavor in advocating for meaningful policy reforms."
      ],
      "metadata": {
        "id": "Bb-WIStZJ9Hr"
      }
    },
    {
      "cell_type": "markdown",
      "source": [
        "# 3. Conclusion and Final Comments\n",
        "\n",
        "The results of this project showed that we can derive interesting insights of public perceptions of crime cases within a specific context. The work delves into the analysis of a crime news post, focusing on the case of Paula Santana—a young victim whose compelling narrative deeply resonated with many people. The tragic nature of the crime, occurring within the premises of her workplace and involving a suspect she had previously reported for harassment, motivated extensive discussions.\n",
        "\n",
        "Consequently, Paula's story inspired different reactions from the population, providing a rich source of data through social media platforms for understanding prevailing sentiments and topics. Notable observations highlight public perceptions regarding the efficacy of the justice system and the accountability of policymakers in implementing legislation to safeguard vulnerable individuals. Paula's profile, a young woman with dreams and aspirations who suffered from workplace harassment, underscores the imperative for stronger regulations to compel companies to address such cases more effectively and prevent tragic outcomes.\n",
        "\n",
        "However, the study acknowledges certain limitations. The analysis structure may benefit from refinement to enhance the quality of results, while potential biases in result interpretation due to the researcher's preconceived notions are noted. Furthermore, expanding the sample size to encompass diverse crime news cases could provide deeper insights into public reactions across varying circumstances and victim profiles. Additionally, considering not only primary comments but also responses can offer valuable insights into interaction dynamics within such discussions.\n",
        "\n",
        "Future endeavors could explore language patterns and usage in these contexts to extrapolate formal concepts mapping them to policymaking reforms and catalyzing societal change. By delving deeper into these facets, we can provide a more comprehensive understanding of public perceptions surrounding crime and advocate for impactful social reforms."
      ],
      "metadata": {
        "id": "Odq9b4emIwoC"
      }
    },
    {
      "cell_type": "markdown",
      "source": [
        "# 4. References\n",
        "\n",
        "1. A. M. G. A., S. Robledo and M. Zuluaga, \"Topic Modeling: Perspectives From a Literature Review,\" in IEEE Access, vol. 11, pp. 4066-4078, 2023, doi: 10.1109/ACCESS.2022.3232939.\n",
        "\n",
        "2. Bakri C. Haron, M., Z. Z. Abidin, S., Azmina M. Zamani, N., & ., . (2018). Visualization of Crime News Sentiment in Facebook. International Journal of Engineering & Technology, 7(4.38), 955-959. https://doi.org/10.14419/ijet.v7i4.38.27616\n",
        "\n",
        "\n",
        "3. Clarke, N., Foltz, P. W., & Garrard, P. (2020). How to do things with (thousands of) words: Computational approaches to discourse analysis in Alzheimer’s disease. Cortex, 129, 446–463. https://doi.org/10.1016/j.cortex.2020.05.001\n",
        "\n",
        "\n",
        "4. C. Zhu, H. Zhu, Y. Ge, E. Chen and Q. Liu, \"Tracking the Evolution of Social Emotions: A Time-Aware Topic Modeling Perspective,\" 2014 IEEE International Conference on Data Mining, Shenzhen, China, 2014, pp. 697-706, doi: 10.1109/ICDM.2014.121.\n",
        "\n",
        "\n",
        "5. Lipizzi, C., Dessavre, D. G., Iandoli, L., & Marquez, J. E. R. (2016). Towards computational discourse analysis: A methodology for mining Twitter backchanneling conversations. Computers in Human Behavior, 64, 782–792. https://doi.org/10.1016/j.chb.2016.07.030\n",
        "\n",
        "\n",
        "6. Shivhare, S. N., & Khethawat, S. (2012, May 22). Emotion Detection from Text. arXiv.org. https://arxiv.org/abs/1205.4944"
      ],
      "metadata": {
        "id": "HZiEGKSWADDs"
      }
    }
  ]
}