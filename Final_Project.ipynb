{
  "nbformat": 4,
  "nbformat_minor": 0,
  "metadata": {
    "colab": {
      "provenance": [],
      "authorship_tag": "ABX9TyOnEluh7yomFFjbuO1pPNpA",
      "include_colab_link": true
    },
    "kernelspec": {
      "name": "python3",
      "display_name": "Python 3"
    },
    "language_info": {
      "name": "python"
    }
  },
  "cells": [
    {
      "cell_type": "markdown",
      "metadata": {
        "id": "view-in-github",
        "colab_type": "text"
      },
      "source": [
        "<a href=\"https://colab.research.google.com/github/natanael-santosd/Final-Project-Fusemachines/blob/main/Final_Project.ipynb\" target=\"_parent\"><img src=\"https://colab.research.google.com/assets/colab-badge.svg\" alt=\"Open In Colab\"/></a>"
      ]
    },
    {
      "cell_type": "markdown",
      "source": [
        "# **An Example of Emotion Detection and Topic Modeling Analysis of Crime News Comments on Instagram: The Paula Santana's Case**\n",
        "#### By Natanael Santos Delgado"
      ],
      "metadata": {
        "id": "02tUZmmLNLqw"
      }
    },
    {
      "cell_type": "markdown",
      "source": [
        "# Introduction\n",
        "\n",
        "In this project, I am trying to find out what are the most common reactions of the Dominican users of IG when prompted crime news. In this project, the comments of an Instagram news-post about the Case of Paula Santana is analysed. She was the victim of two co-workers (killed in her job); one of them she had reported for harassment, but Human Resources didn't take it seriously. These kind of cases tend to generate a strong reaction from the public, so it could be interesting to analyze these comments and try to establish the public's position on how to adress them, how it affects security concerns, especially for women, and a reflection on the victim's profile.\n",
        "\n",
        "For emotion detection, Python TextBlob library was used and for topic modeling, Latent Dirichlet Allocation (LDA) was applied.\n",
        "\n",
        "One of the main challenges was the data collection, because web scraping for IG web seems to be very difficult, hence, many researchers prefer to extract comments from Twitter. Excel was used for cleaning the mainstream media news. Also, the scope of my research questions might not be answered by the applied methods."
      ],
      "metadata": {
        "id": "ZPFs39PSot5B"
      }
    },
    {
      "cell_type": "markdown",
      "source": [
        "# 1. Literature Review\n",
        "\n",
        "## 1.1. Discourse Analysis\n",
        "\n",
        "The International Encyclopedia of Education (2023) defines **discourse analysis** as \"*the epistemological framework for investigating discourse which allows it to approach the variety of discursive genres and to describe the complexity of the discourse and of the interaction*\".\n",
        "\n",
        "However, discourse analysis has been traditionally a qualitative research approach, that aims to extract social meaning from the study of the use of the language, according to Melissa N.P. Johnson & Ethan McLean (2020). The authors also mention that the way language can influence the social world is a bipartisan relationship.\n",
        "\n",
        "## 1.2 Machine Learning Methods for Discourse Analysis\n",
        "\n",
        "We can apply Machine Learning methods to perform discourse analysis. One of the widely used methods for this matters is sentiment analysis. Sentiment analysis can be defined as a task that aims to assign a contextual polarity label to text, according to Nejab Bija et. al (2017). However, the authors also recognize the limitations of this approach, in the sense that analyzing the overall polarity of a sentence is subject to the ambiguities that can be introduced by combinations of words and phrases.\n",
        "\n",
        "Moreover, Natural Language Processing (NLP) is an ever-growing field of computational science that aims to model natural human language, as explained by Natasha Clarke et. al (2020). The authors recognize the importance of combining both NLP with the advances in machine learning, which learns patterns in data, for automated language analysis.\n",
        "\n",
        "## 1.3 Emotion Detection and Topic Modeling\n",
        "\n",
        "Emotion Detection is an important technique for language and discourse analysis. Emotion in this context can be defined as a feeling or the opinion of a person towards something () that can be expressed in many ways, including speech by written text (), playing an important role in human behaviour.\n",
        "\n",
        "Consequently, Emotion Detection in written text can be defined as a \"content-based classification problem involving concepts from the domains of Natural Language Processing as well as Machine Learning\" (Shiv N. et al., 2012).\n",
        "\n",
        "Moreover, another technique suitable for analysing unstructured text data is Topic Modeling. Andres M. et al (2022) define it as \"a statistical technique used to identify underlying themes in a set of documents that facilitate their representation from the occurrence of words that compose them\".\n",
        "\n",
        "## 1.4 Emotion Detection and Topic Modeling for Crime News\n",
        "\n",
        "News social media pages enable user to express different types of emotions (e.g., angry) and opinions (topics) they have after after reading the news. Compared with traditional user feedbacks, such as comments and ratings, these specific emotion annotations are more accurate for expressing users' public’s opinions and emotions toward certain issues (Chen Zhu et al., 2015).\n",
        "\n",
        "An important issue that can ba analysed by extracting people's reaction from social media is crime, where social media can influence the public’s emotions, impressions, perspectives and judgments regarding crime, as evidenced by Thomas J. et al. (2014). The authors also  explain that people tend to rely upon resources published by the media production in observing crime topics.\n",
        "\n",
        "In this project, a single crime case is analysed, using the users' comments in the news post in order to identify main reactions and common topics of discussion among the commentators.\n",
        "\n",
        "The case is being analysed is Paula Santana's Case, a young student who was killed in the installations of her job by two coworkers. One of whom she had reported for harassment and Human Resources did not take it seriously.\n",
        "\n",
        "This is one the news from Diario Libre, one the two main printed newspapers in the Dominican Republic. In this report, the newspaper provides some context and information about the victim and the case.\n"
      ],
      "metadata": {
        "id": "Hf47JgdSrzg2"
      }
    },
    {
      "cell_type": "markdown",
      "source": [
        "# 1. Mainstream Media Coverage\n",
        "\n",
        "**Media:** Diario Libre \\\n",
        "**Date:** February 23\\\n",
        "**Original Language:** Spanish \\\n",
        "**Link:** https://www.instagram.com/p/C3s9_RvvPla/ \\\n",
        "**Number of Likes:** 12,023 \\\n",
        "**Number of Comments:** 658 (498)\n",
        "\n",
        "**Text of the News:**\n",
        "\n",
        "Faltaban pocos meses para que Paula Santana Escalante convirtiera en realidad su sueño: ser una azafata. Sin embargo, todo se desvaneció tras encontrar su cuerpo sin vida a las afueras de la empresa donde trabajaba en la zona franca de Las Américas, en Santo Domingo Este. A pesar de contar con pocos recursos, nunca consideró abandonar sus estudios ni renunciar a su sueño de ser azafata para poder sacar adelante a su familia. La joven era estudiante de Inter Aviation Services (Iasca). Con tristeza, sus familiares expresaron que la determinación y entrega de Paula hacía que sus familiares la vieran como un ejemplo a seguir. El principal sospechoso de su muerte es un compañero de trabajo, quien, según sus parientes, la acosaba. Pese a que denunció la situación en el departamento de Recursos Humanos de la empresa Integer Holdings Corporation, estos habrían hecho caso omiso.\n",
        "\n",
        "**English Translation:**\n",
        "\n",
        "A few months were left for Paula Santana Escalante to make her dream a reality: to become a flight attendant. However, everything vanished after her lifeless body was found on the outskirts of the company where she worked in the Las Américas free zone, in Santo Domingo Este. Despite having few resources, she never considered abandoning her studies or giving up her dream of becoming a flight attendant to support her family. The young woman was a student at Inter Aviation Services (Iasca). With sadness, her relatives expressed that Paula's determination and dedication made her a role model for her family members. The main suspect in her death is a coworker, who, according to her relatives, harassed her. Although she reported the situation to the Human Resources department of the company Integer Holdings Corporation, they allegedly ignored it.\n"
      ],
      "metadata": {
        "id": "rWCZz1tHCqIN"
      }
    },
    {
      "cell_type": "markdown",
      "source": [
        "## 2. Exploratory Data Analysis (EDA)"
      ],
      "metadata": {
        "id": "kZkMRFXLHo9q"
      }
    },
    {
      "cell_type": "markdown",
      "source": [
        "### 2.1 Data Source\n",
        "\n",
        "The Instagram comments were extracted by copying the entire page (CTRL + A) and pasting all elements in Excel. To clean the data to only have the comments, these Excel features were applied:\n",
        "\n",
        "- Alt + F5 to select specific elements and delete them. At first, delete all objects (images).\n",
        "- Excel VBA formula was applied to select all cells that contained hyperlinks (instagram functionalities, such as \"see more\", \"respond\", etc. appeared with hyperlinks).\n",
        "- Finally, Filtering was applied to select only cells with values and copying them in a clean worksheet.\n",
        "\n",
        "\n",
        "From this process, the clean dataset was obtained with only main comments (no responses) and an ID column was added.\n",
        "\n",
        "The reason why this approach was chosen is because Instagram Web is very difficult for web scraping, so in this case using Excel was more suitable for the matter."
      ],
      "metadata": {
        "id": "_LjHZLY-svyx"
      }
    },
    {
      "cell_type": "code",
      "source": [
        "# Importing required libraries\n",
        "import pandas as pd\n",
        "from textblob import TextBlob\n",
        "!pip install emoji\n",
        "import emoji as emoji\n",
        "import nltk as nltk\n",
        "import pandas as pd\n",
        "from collections import Counter\n",
        "from nltk.corpus import stopwords\n",
        "from nltk.tokenize import word_tokenize\n",
        "from nltk.stem import WordNetLemmatizer\n",
        "from nltk.corpus import wordnet\n",
        "import matplotlib.pyplot as plt\n",
        "from wordcloud import WordCloud\n",
        "import numpy as np\n",
        "nltk.download('wordnet')\n",
        "nltk.download('punkt')\n",
        "nltk.download('stopwords')\n",
        "\n",
        "# Loading the dataset\n",
        "df = pd.read_csv('diariolibre1.csv')\n",
        "df['data'] = df['data'].astype('str')\n",
        "\n",
        "# Let's see the structure of the dataset\n",
        "df.head()"
      ],
      "metadata": {
        "id": "QmhxEfpgk9rB"
      },
      "execution_count": null,
      "outputs": []
    },
    {
      "cell_type": "markdown",
      "source": [
        "### 2.2 Data Pre-Processing"
      ],
      "metadata": {
        "id": "hcUJORIjJzpt"
      }
    },
    {
      "cell_type": "markdown",
      "source": [
        "Now, it would be interesting to convert all emojis into text, in order to consider also comments with only emojis in the analysis.\n",
        "\n",
        "This is a source of bias, since I will be defining the meaning, and maybe people did not have that intention or might not be exactly what they meant."
      ],
      "metadata": {
        "id": "zHfwwmmPKVrs"
      }
    },
    {
      "cell_type": "code",
      "source": [
        "df = pd.read_csv('diariolibre1.csv')\n",
        "df['data'] = df['data'].astype('str')\n",
        "df_original = df ## original dataset with emojis\n",
        "\n",
        "# Function to extract emojis from a string\n",
        "def extract_distinct_emojis(text):\n",
        "    return emoji.distinct_emoji_list(text)\n",
        "\n",
        "# Apply the function to each value in the 'data' column\n",
        "emojis_list = df['data'].apply(extract_distinct_emojis)\n",
        "\n",
        "# Aggregate all extracted emojis into a single list\n",
        "all_emojis = [emoji for sublist in emojis_list for emoji in sublist]\n",
        "\n",
        "# Obtain unique emojis\n",
        "unique_emojis = list(set(all_emojis))\n",
        "\n",
        "print(\"Unique List of Emojis:\")\n",
        "print(unique_emojis)\n",
        "\n",
        "emoji_mapping = {\n",
        "    '🙌':'',\n",
        "    '🫂':'',\n",
        "    '😩':'',\n",
        "    '😂':'',\n",
        "    '🌹':'',\n",
        "    '🥲':'',\n",
        "    '💜':'',\n",
        "    '☹️':'',\n",
        "    '😳':'',\n",
        "    '🔥':'',\n",
        "    '🖤':'',\n",
        "    '😔':'',\n",
        "    '💰':'',\n",
        "    '👀':'',\n",
        "    '😄':'',\n",
        "    '🙏🏻':'',\n",
        "    '😖':'',\n",
        "    '🇩🇴':'',\n",
        "    '👏':'',\n",
        "    '😞':'',\n",
        "    '🙈':'',\n",
        "    '⚖️':'',\n",
        "    '😒':'',\n",
        "    '\\U0001f979':'',\n",
        "    '👿':'',\n",
        "    '😢':'',\n",
        "    '❤️':'',\n",
        "    '😇':'',\n",
        "    '😮':'',\n",
        "    '🙃':'',\n",
        "    '😦':'',\n",
        "    '🕯':'',\n",
        "    '😍':'',\n",
        "    '🤬':'',\n",
        "    '🕊':'',\n",
        "    '🙊':'',\n",
        "    '😪':'',\n",
        "    '🧑\\u200d🎨':'',\n",
        "    '🙏🏼':'',\n",
        "    '❤':'',\n",
        "    '🌎':'',\n",
        "    '✝️':'',\n",
        "    '😭':'',\n",
        "    '🙏':'',\n",
        "    '🐀':'',\n",
        "    '🎥':'',\n",
        "    '🙉':'',\n",
        "    '🥺':'',\n",
        "    '😡':'',\n",
        "    '🕊️':'',\n",
        "    '😥':'',\n",
        "    '🤔':'',\n",
        "    '👎':'',\n",
        "    '💔':''\n",
        "}\n",
        "\n",
        "def all_emojis(dataset):\n",
        "  \"\"\"Iterates over the dataset and extract all strings that contain\n",
        "     an emoji.\n",
        "  \"\"\"\n",
        "  processed_text = \"\"\n",
        "  for char in dataset:\n",
        "    if char in emoji_mapping:\n",
        "      processed_text += emoji_mapping[char]\n",
        "    else:\n",
        "      processed_text += char\n",
        "  return processed_text\n",
        "\n",
        "df['data'] = df['data'].apply(all_emojis)\n",
        "print(df) ## Dataset with no emojis\n",
        "\n",
        "df_emoji = pd.read_csv('diariolibre1.csv')\n",
        "df_emoji['data'] = df_emoji['data'].astype('str')\n",
        "\n",
        "emoji_mapping_2 = {\n",
        "    '🙌':'esperanza',\n",
        "    '🫂':'abrazo',\n",
        "    '😩':'angustia',\n",
        "    '😂':'',\n",
        "    '🌹':'rosa',\n",
        "    '🥲':'llorar',\n",
        "    '💜':'esperanza',\n",
        "    '☹️':'llorar',\n",
        "    '😳':'asombro',\n",
        "    '🔥':'',\n",
        "    '🖤':'esperanza',\n",
        "    '😔':'pena',\n",
        "    '💰':'dinero',\n",
        "    '👀':'observar',\n",
        "    '😄':'',\n",
        "    '🙏🏻':'esperanza',\n",
        "    '😖':'pena',\n",
        "    '🇩🇴':'',\n",
        "    '👏':'aplauso',\n",
        "    '😞':'dolor',\n",
        "    '🙈':'',\n",
        "    '⚖️':'justicia',\n",
        "    '😒':'cansancio',\n",
        "    '\\U0001f979':'',\n",
        "    '👿':'enojo',\n",
        "    '😢':'dolor',\n",
        "    '❤️':'esperanza',\n",
        "    '😇':'angel',\n",
        "    '😮':'sorpresa',\n",
        "    '🙃':'enojo',\n",
        "    '😦':'sorpresa',\n",
        "    '🕯':'paz',\n",
        "    '😍':'',\n",
        "    '🤬':'enojo',\n",
        "    '🕊':'descansa en paz',\n",
        "    '🙊':'enojo',\n",
        "    '😪':'dolor',\n",
        "    '🧑\\u200d🎨':'',\n",
        "    '🙏🏼':'orar',\n",
        "    '❤':'esperanza',\n",
        "    '🌎':'mundo',\n",
        "    '✝️':'Dios',\n",
        "    '😭':'llorar',\n",
        "    '🙏':'orar',\n",
        "    '🐀':'raton',\n",
        "    '🎥':'pelicula',\n",
        "    '🙉':'',\n",
        "    '🥺':'llorar',\n",
        "    '😡':'enojo',\n",
        "    '🕊️':'descansa en paz',\n",
        "    '😥':'tristeza',\n",
        "    '🤔':'pensar',\n",
        "    '👎':'disgusto',\n",
        "    '💔':'corazon roto'\n",
        "}\n",
        "\n",
        "def all_emojis_emoji(dataset):\n",
        "  \"\"\"Iterates over the dataset and extract all strings that contain\n",
        "     an emoji.\n",
        "  \"\"\"\n",
        "  processed_text = \"\"\n",
        "  for char in dataset:\n",
        "    if char in emoji_mapping_2:\n",
        "      processed_text += emoji_mapping_2[char]\n",
        "    else:\n",
        "      processed_text += char\n",
        "  return processed_text\n",
        "\n",
        "df_emoji['data'] = df_emoji['data'].apply(all_emojis_emoji)\n",
        "print(df_emoji) ## dataset with emojis converted into text"
      ],
      "metadata": {
        "id": "CBWuibQQKJM1"
      },
      "execution_count": null,
      "outputs": []
    },
    {
      "cell_type": "markdown",
      "source": [
        "### 2.3 Data Visualization"
      ],
      "metadata": {
        "id": "KtAwdYXsk-ae"
      }
    },
    {
      "cell_type": "markdown",
      "source": [
        "#### 2.3.1 Bar Chart and Word Cloud\n",
        "\n",
        "Let's visualize the most frequent non-stop words in the dataset."
      ],
      "metadata": {
        "id": "7uq-dE9nshT-"
      }
    },
    {
      "cell_type": "code",
      "source": [
        "# Function to preprocess text\n",
        "def preprocess_text(text):\n",
        "    tokens = word_tokenize(text)\n",
        "    tokens = [token.lower() for token in tokens]\n",
        "    stop_words = set(stopwords.words('spanish'))\n",
        "    tokens = [token for token in tokens if token.isalnum() and token not in stop_words]\n",
        "    return tokens\n",
        "\n",
        "# Preprocess comments column\n",
        "df['preprocessed_comments'] = df['data'].apply(preprocess_text)\n",
        "\n",
        "# Flatten the list of tokens\n",
        "tokens = [token for sublist in df['preprocessed_comments'] for token in sublist]\n",
        "\n",
        "# Count word frequencies\n",
        "word_freq = Counter(tokens)\n",
        "\n",
        "# Get the most common words\n",
        "most_common_words = word_freq.most_common(10)\n",
        "\n",
        "# Plot word frequencies\n",
        "plt.figure(figsize=(10, 6))\n",
        "words, frequencies = zip(*most_common_words)\n",
        "plt.bar(words, frequencies)\n",
        "plt.title('Top 10 Most Common Words')\n",
        "plt.xlabel('Words')\n",
        "plt.ylabel('Frequency')\n",
        "plt.xticks(rotation=45)\n",
        "plt.show()\n",
        "\n",
        "# Generate word cloud\n",
        "wordcloud = WordCloud(width=800, height=400, background_color='white').generate_from_frequencies(dict(most_common_words))\n",
        "plt.figure(figsize=(10, 6))\n",
        "plt.imshow(wordcloud, interpolation='bilinear')\n",
        "plt.axis('off')\n",
        "plt.title('Word Cloud of Most Common Words')\n",
        "plt.show()"
      ],
      "metadata": {
        "id": "iCWMX8OKHbZC",
        "outputId": "98cbce35-f07e-4e0c-833d-9f0507665187",
        "colab": {
          "base_uri": "https://localhost:8080/",
          "height": 1000
        }
      },
      "execution_count": 3,
      "outputs": [
        {
          "output_type": "display_data",
          "data": {
            "text/plain": [
              "<Figure size 1000x600 with 1 Axes>"
            ],
            "image/png": "[encoded data removed]"
          },
          "metadata": {}
        },
        {
          "output_type": "display_data",
          "data": {
            "text/plain": [
              "<Figure size 1000x600 with 1 Axes>"
            ],
            "image/png": "[encoded data removed]"
          },
          "metadata": {}
        }
      ]
    },
    {
      "cell_type": "markdown",
      "source": [
        "From this results, we can interpret these words and extrapolate their meaning in this context:\n",
        "\n",
        "1. Dios - God: The Dominican Republic is a religious country, with Christianism as the most important religion. Expressions like \"Oh, God\", \"Oh, my God\" or regular condolences\n",
        "\n",
        "2. Justicia - Justice: As we would expect, this was a very solid case in terms of the precedents and the nature of the crime, so people would naturally be expecting a fast-clear outcome. But, it could also be a result of the social perception of the Justice's System. People might feel that if there are no strong demands for \"justice\" to be applied, a case might not be solved.\n",
        "\n",
        "3. Caso - Case: This is also following the previous idea, which provides more evidence for the reaction of demanding \"justice\".\n",
        "\n",
        "4. Pena - Sad or Sentence (Law): In this case, this word might refer to \"the feeling of profound sadness\" or \"the punishment imposed according to the law by judges or courts on those responsible for a crime or offense\" (Real Academia de la Lengua Española).\n",
        "\n",
        "5. Si - If. Probably due to the large amount of conditional statements.\n",
        "\n",
        "6. Vida - Life.\n",
        "\n",
        "7. Empresa - Company: Many comments might have been blaming and attacking the company for the way they handled the harassment complaint made by the victim.\n",
        "\n",
        "8. Joven - Young: The victim was young and it might be one of the biggest shocks and concerns.\n",
        "\n",
        "9. Alma - Soul: Religion and beliefs from the Dominican population again reflected here.\n",
        "\n",
        "10. Pobre - Poor: Could refer to being economically \"poor\" or feeling inmensely bad for the \"poor\" victim.\n",
        "\n"
      ],
      "metadata": {
        "id": "wXVvz0vGpfBm"
      }
    },
    {
      "cell_type": "markdown",
      "source": [
        "### 2.4 Concordance Analysis\n",
        "\n",
        "Now, let's apply concordance analysis to the top 10 words identified in the word frequency graph. This perspective would allow us to see the top words in context, to spot how they usually appear in the text."
      ],
      "metadata": {
        "id": "dt6BkVEOxFdp"
      }
    },
    {
      "cell_type": "code",
      "source": [
        "import pandas as pd\n",
        "import nltk\n",
        "from nltk.tokenize import word_tokenize\n",
        "from nltk.text import ConcordanceIndex\n",
        "\n",
        "# Top 10 words\n",
        "top_words = ['dios', 'justicia', 'caso', 'pena', 'si', 'vida', 'empresa',\n",
        "             'joven','alma','pobre']\n",
        "\n",
        "# Tokenize comments\n",
        "df['tokens'] = df['data'].apply(lambda x: word_tokenize(x.lower()))\n",
        "\n",
        "# Concatenate tokens from all comments\n",
        "all_tokens = [token for tokens in df['tokens'] for token in tokens]\n",
        "\n",
        "# Perform concordance analysis for each top word\n",
        "print(\"Concordance analysis for top 10 words:\")\n",
        "for word in top_words:\n",
        "    concordance_index = ConcordanceIndex(all_tokens)\n",
        "    concordance_index.print_concordance(word, width=50)\n",
        "    print(\"\\n\")"
      ],
      "metadata": {
        "id": "5jmN0PDvviZx"
      },
      "execution_count": null,
      "outputs": []
    },
    {
      "cell_type": "markdown",
      "source": [
        "## 3. Sentiment Analysis"
      ],
      "metadata": {
        "id": "W0039gXhqgob"
      }
    },
    {
      "cell_type": "markdown",
      "source": [
        "### 3.2 Sentiment Analysis using TexBlob"
      ],
      "metadata": {
        "id": "53798ag6FLeF"
      }
    },
    {
      "cell_type": "markdown",
      "source": [
        "For this task, the overall sentiment of the dataset is being analysed using TextBlob. The polarity score is a float within the range [-1.0, 1.0].\n",
        "\n",
        "This algorithm is trained to work in English corpus, so it's not suitable for our dataset. However, we can use Google Translator to translate our comments and then apply TextBlob. Since it has a limit, let's just tranlaste the comments that contain at least one of the top 10 more frequent words."
      ],
      "metadata": {
        "id": "KFo3LdIDBBph"
      }
    },
    {
      "cell_type": "code",
      "source": [
        "import pandas as pd\n",
        "!pip install googletrans\n",
        "from googletrans import Translator\n",
        "from textblob import TextBlob\n",
        "\n",
        "# Initialize Translator object\n",
        "translator = Translator()\n",
        "\n",
        "top_words = ['dios', 'justicia', 'caso', 'pena', 'si', 'vida', 'empresa',\n",
        "             'joven','alma','pobre']\n",
        "\n",
        "def translate_text(text):\n",
        "    try:\n",
        "        translation = translator.translate(text, src='es', dest='en')\n",
        "        return translation.text\n",
        "    except AttributeError:\n",
        "        # If translation fails, return original text\n",
        "        return text\n",
        "\n",
        "filtered_comments = df[df['data'].str.lower().str.contains('|'.join(top_words))]\n",
        "\n",
        "# Translate filtered comments\n",
        "translated_comments = filtered_comments['data'].apply(translate_text)\n",
        "\n",
        "# Function to calculate sentiment score using TextBlob\n",
        "def calculate_sentiment(text):\n",
        "    blob = TextBlob(text)\n",
        "    return blob.sentiment.polarity\n",
        "\n",
        "# Calculate sentiment score for translated comments\n",
        "sentiment_scores = translated_comments.apply(calculate_sentiment)\n",
        "\n",
        "# Calculate overall sentiment score (average polarity)\n",
        "overall_sentiment_score = sentiment_scores.mean()\n",
        "\n",
        "print(\"Overall Sentiment Score:\", overall_sentiment_score)"
      ],
      "metadata": {
        "id": "wEZcUiN9Cq4W",
        "colab": {
          "base_uri": "https://localhost:8080/"
        },
        "outputId": "28e2ee38-894d-4e44-dc1d-e364e455839d"
      },
      "execution_count": 10,
      "outputs": [
        {
          "output_type": "stream",
          "name": "stdout",
          "text": [
            "Requirement already satisfied: googletrans in /usr/local/lib/python3.10/dist-packages (3.0.0)\n",
            "Requirement already satisfied: httpx==0.13.3 in /usr/local/lib/python3.10/dist-packages (from googletrans) (0.13.3)\n",
            "Requirement already satisfied: certifi in /usr/local/lib/python3.10/dist-packages (from httpx==0.13.3->googletrans) (2024.2.2)\n",
            "Requirement already satisfied: hstspreload in /usr/local/lib/python3.10/dist-packages (from httpx==0.13.3->googletrans) (2024.3.1)\n",
            "Requirement already satisfied: sniffio in /usr/local/lib/python3.10/dist-packages (from httpx==0.13.3->googletrans) (1.3.1)\n",
            "Requirement already satisfied: chardet==3.* in /usr/local/lib/python3.10/dist-packages (from httpx==0.13.3->googletrans) (3.0.4)\n",
            "Requirement already satisfied: idna==2.* in /usr/local/lib/python3.10/dist-packages (from httpx==0.13.3->googletrans) (2.10)\n",
            "Requirement already satisfied: rfc3986<2,>=1.3 in /usr/local/lib/python3.10/dist-packages (from httpx==0.13.3->googletrans) (1.5.0)\n",
            "Requirement already satisfied: httpcore==0.9.* in /usr/local/lib/python3.10/dist-packages (from httpx==0.13.3->googletrans) (0.9.1)\n",
            "Requirement already satisfied: h11<0.10,>=0.8 in /usr/local/lib/python3.10/dist-packages (from httpcore==0.9.*->httpx==0.13.3->googletrans) (0.9.0)\n",
            "Requirement already satisfied: h2==3.* in /usr/local/lib/python3.10/dist-packages (from httpcore==0.9.*->httpx==0.13.3->googletrans) (3.2.0)\n",
            "Requirement already satisfied: hyperframe<6,>=5.2.0 in /usr/local/lib/python3.10/dist-packages (from h2==3.*->httpcore==0.9.*->httpx==0.13.3->googletrans) (5.2.0)\n",
            "Requirement already satisfied: hpack<4,>=3.0 in /usr/local/lib/python3.10/dist-packages (from h2==3.*->httpcore==0.9.*->httpx==0.13.3->googletrans) (3.0.0)\n",
            "Overall Sentiment Score: -0.016598639455782317\n"
          ]
        }
      ]
    },
    {
      "cell_type": "markdown",
      "source": [
        "After receiving a negative (-0.017) but close-to-zero overall sentiment score, I suspect that the algorithm doesn't work well on this dataset. Hence, I will check different comments individually to judge whether the result is acceptable."
      ],
      "metadata": {
        "id": "9tHKE1pzDvLi"
      }
    },
    {
      "cell_type": "code",
      "source": [
        "# This comment transates to: \"What a tragedy, everyone involved should be in\n",
        "# jail, even the security officer, until everything it's clear\n",
        "# and justice is done!\"\n",
        "comment_text = \"Me duele\"\n",
        "translation = comment_text.astype('obj').apply(translate_text)\n",
        "blob = TextBlob(translation)\n",
        "sentiment_score = blob.sentiment.polarity\n",
        "print(sentiment_score)\n",
        "# We get a sentime score of 0.0, showing it's neutral."
      ],
      "metadata": {
        "id": "F2ktGLUpDP-c",
        "outputId": "3cd0c664-b6ac-4d36-e811-ee6683810115",
        "colab": {
          "base_uri": "https://localhost:8080/",
          "height": 211
        }
      },
      "execution_count": 14,
      "outputs": [
        {
          "output_type": "error",
          "ename": "AttributeError",
          "evalue": "'str' object has no attribute 'astype'",
          "traceback": [
            "\u001b[0;31m---------------------------------------------------------------------------\u001b[0m",
            "\u001b[0;31mAttributeError\u001b[0m                            Traceback (most recent call last)",
            "\u001b[0;32m<ipython-input-14-46bcf468f12d>\u001b[0m in \u001b[0;36m<cell line: 5>\u001b[0;34m()\u001b[0m\n\u001b[1;32m      3\u001b[0m \u001b[0;31m# and justice is done!\"\u001b[0m\u001b[0;34m\u001b[0m\u001b[0;34m\u001b[0m\u001b[0m\n\u001b[1;32m      4\u001b[0m \u001b[0mcomment_text\u001b[0m \u001b[0;34m=\u001b[0m \u001b[0;34m\"Me duele\"\u001b[0m\u001b[0;34m\u001b[0m\u001b[0;34m\u001b[0m\u001b[0m\n\u001b[0;32m----> 5\u001b[0;31m \u001b[0mtranslation\u001b[0m \u001b[0;34m=\u001b[0m \u001b[0mcomment_text\u001b[0m\u001b[0;34m.\u001b[0m\u001b[0mastype\u001b[0m\u001b[0;34m(\u001b[0m\u001b[0;34m'obj'\u001b[0m\u001b[0;34m)\u001b[0m\u001b[0;34m.\u001b[0m\u001b[0mapply\u001b[0m\u001b[0;34m(\u001b[0m\u001b[0mtranslate_text\u001b[0m\u001b[0;34m)\u001b[0m\u001b[0;34m\u001b[0m\u001b[0;34m\u001b[0m\u001b[0m\n\u001b[0m\u001b[1;32m      6\u001b[0m \u001b[0mblob\u001b[0m \u001b[0;34m=\u001b[0m \u001b[0mTextBlob\u001b[0m\u001b[0;34m(\u001b[0m\u001b[0mtranslation\u001b[0m\u001b[0;34m)\u001b[0m\u001b[0;34m\u001b[0m\u001b[0;34m\u001b[0m\u001b[0m\n\u001b[1;32m      7\u001b[0m \u001b[0msentiment_score\u001b[0m \u001b[0;34m=\u001b[0m \u001b[0mblob\u001b[0m\u001b[0;34m.\u001b[0m\u001b[0msentiment\u001b[0m\u001b[0;34m.\u001b[0m\u001b[0mpolarity\u001b[0m\u001b[0;34m\u001b[0m\u001b[0;34m\u001b[0m\u001b[0m\n",
            "\u001b[0;31mAttributeError\u001b[0m: 'str' object has no attribute 'astype'"
          ]
        }
      ]
    },
    {
      "cell_type": "code",
      "source": [
        "# This comment transates to: \"Oh, God, this new have affected me so badly\"\n",
        "comment_text = \"This was a really bad movie\"\n",
        "blob = TextBlob(comment_text)\n",
        "sentiment_score = blob.sentiment.polarity\n",
        "print(sentiment_score)\n",
        "# We get a sentime score of 0.0, showing it's neutral, which is clearly not."
      ],
      "metadata": {
        "id": "Egt5S_G_hMyW",
        "colab": {
          "base_uri": "https://localhost:8080/"
        },
        "outputId": "88019e40-0413-46aa-b3e2-1c4d4fdf9358"
      },
      "execution_count": null,
      "outputs": [
        {
          "output_type": "stream",
          "name": "stdout",
          "text": [
            "0.0\n"
          ]
        }
      ]
    },
    {
      "cell_type": "code",
      "source": [
        "# This comment transates to: \"Man, poor girl that couldn't achieve her dreams\n",
        "# because of some ***\"\n",
        "comment_text = \"Diantre pobre muchacha no pudo realizar sus sueños 😢😔por unos azarosos…\"\n",
        "blob = TextBlob(comment_text)\n",
        "sentiment_score = blob.sentiment.polarity\n",
        "print(sentiment_score)\n",
        "# We get a sentiment score of 0.0, showing it's neutral, which is clearly not."
      ],
      "metadata": {
        "id": "B7D5Yi3BhNfJ",
        "outputId": "a5369e07-7e23-465b-d312-bf426ae89786",
        "colab": {
          "base_uri": "https://localhost:8080/"
        }
      },
      "execution_count": null,
      "outputs": [
        {
          "output_type": "stream",
          "name": "stdout",
          "text": [
            "0.0\n"
          ]
        }
      ]
    },
    {
      "cell_type": "code",
      "source": [
        "# This comment transates to: \"If the family oh this girl had money,\n",
        "# the case gets solved instantly, but if not the population should put pressure\n",
        "# for the case to be solved, otherwise it won't happen\"\n",
        "comment_text = \"Si la familia de ESA muchacha tiene dinero se resuelve de una vez ya lo saben pero si no tienen la población debe meter presión para que se resuelva si no no se resuelve\"\n",
        "blob = TextBlob(comment_text)\n",
        "sentiment_score = blob.sentiment.polarity\n",
        "print(sentiment_score)\n",
        "# We get a sentiment score of 0.0, showing it's neutral, which is clearly not."
      ],
      "metadata": {
        "id": "s5swPgFzhOJW",
        "colab": {
          "base_uri": "https://localhost:8080/"
        },
        "outputId": "31064d81-a248-4c2a-d3bd-24927ed7a60a"
      },
      "execution_count": null,
      "outputs": [
        {
          "output_type": "stream",
          "name": "stdout",
          "text": [
            "0.0\n"
          ]
        }
      ]
    },
    {
      "cell_type": "markdown",
      "source": [
        "### 3.3 Sentiment Analysis using Sentiment-Spanish Library"
      ],
      "metadata": {
        "id": "DRSTJGimH3qk"
      }
    },
    {
      "cell_type": "markdown",
      "source": [
        "Let's apply sentiment-spanish, which is a python library that uses convolutional neural networks to predict the sentiment of spanish sentences. The function sentiment(text) returns a number between 0 and 1. This is the probability of string variable text of being \"positive\"."
      ],
      "metadata": {
        "id": "4KKg1eaaHj5j"
      }
    },
    {
      "cell_type": "code",
      "source": [
        "!pip install sentiment-analysis-spanish\n",
        "!pip install keras tensorflow\n",
        "from sentiment_analysis_spanish import sentiment_analysis\n",
        "\n",
        "sentiment = sentiment_analysis.SentimentAnalysisSpanish()\n",
        "\n",
        "# Function to calculate sentiment score using SentimentAnalysisSpanish\n",
        "def calculate_sentiment_score(text):\n",
        "    return sentiment.sentiment(text)\n",
        "\n",
        "# Calculate sentiment score for original comments\n",
        "sentiment_scores = df['data'].apply(calculate_sentiment_score)\n",
        "\n",
        "# Aggregate sentiment scores\n",
        "overall_sentiment_score = sentiment_scores.mean()\n",
        "\n",
        "print(\"Overall Sentiment Score:\", overall_sentiment_score)"
      ],
      "metadata": {
        "id": "hV8yjG7KVXk-",
        "outputId": "d2869900-e1fc-4667-d726-0936db7a5e9d",
        "colab": {
          "base_uri": "https://localhost:8080/"
        }
      },
      "execution_count": 15,
      "outputs": [
        {
          "output_type": "stream",
          "name": "stdout",
          "text": [
            "Collecting sentiment-analysis-spanish\n",
            "  Downloading sentiment_analysis_spanish-0.0.25-py3-none-any.whl (30.0 MB)\n",
            "\u001b[2K     \u001b[90m━━━━━━━━━━━━━━━━━━━━━━━━━━━━━━━━━━━━━━━━\u001b[0m \u001b[32m30.0/30.0 MB\u001b[0m \u001b[31m27.5 MB/s\u001b[0m eta \u001b[36m0:00:00\u001b[0m\n",
            "\u001b[?25hInstalling collected packages: sentiment-analysis-spanish\n",
            "Successfully installed sentiment-analysis-spanish-0.0.25\n",
            "Requirement already satisfied: keras in /usr/local/lib/python3.10/dist-packages (2.15.0)\n",
            "Requirement already satisfied: tensorflow in /usr/local/lib/python3.10/dist-packages (2.15.0)\n",
            "Requirement already satisfied: absl-py>=1.0.0 in /usr/local/lib/python3.10/dist-packages (from tensorflow) (1.4.0)\n",
            "Requirement already satisfied: astunparse>=1.6.0 in /usr/local/lib/python3.10/dist-packages (from tensorflow) (1.6.3)\n",
            "Requirement already satisfied: flatbuffers>=23.5.26 in /usr/local/lib/python3.10/dist-packages (from tensorflow) (24.3.25)\n",
            "Requirement already satisfied: gast!=0.5.0,!=0.5.1,!=0.5.2,>=0.2.1 in /usr/local/lib/python3.10/dist-packages (from tensorflow) (0.5.4)\n",
            "Requirement already satisfied: google-pasta>=0.1.1 in /usr/local/lib/python3.10/dist-packages (from tensorflow) (0.2.0)\n",
            "Requirement already satisfied: h5py>=2.9.0 in /usr/local/lib/python3.10/dist-packages (from tensorflow) (3.9.0)\n",
            "Requirement already satisfied: libclang>=13.0.0 in /usr/local/lib/python3.10/dist-packages (from tensorflow) (18.1.1)\n",
            "Requirement already satisfied: ml-dtypes~=0.2.0 in /usr/local/lib/python3.10/dist-packages (from tensorflow) (0.2.0)\n",
            "Requirement already satisfied: numpy<2.0.0,>=1.23.5 in /usr/local/lib/python3.10/dist-packages (from tensorflow) (1.25.2)\n",
            "Requirement already satisfied: opt-einsum>=2.3.2 in /usr/local/lib/python3.10/dist-packages (from tensorflow) (3.3.0)\n",
            "Requirement already satisfied: packaging in /usr/local/lib/python3.10/dist-packages (from tensorflow) (24.0)\n",
            "Requirement already satisfied: protobuf!=4.21.0,!=4.21.1,!=4.21.2,!=4.21.3,!=4.21.4,!=4.21.5,<5.0.0dev,>=3.20.3 in /usr/local/lib/python3.10/dist-packages (from tensorflow) (3.20.3)\n",
            "Requirement already satisfied: setuptools in /usr/local/lib/python3.10/dist-packages (from tensorflow) (67.7.2)\n",
            "Requirement already satisfied: six>=1.12.0 in /usr/local/lib/python3.10/dist-packages (from tensorflow) (1.16.0)\n",
            "Requirement already satisfied: termcolor>=1.1.0 in /usr/local/lib/python3.10/dist-packages (from tensorflow) (2.4.0)\n",
            "Requirement already satisfied: typing-extensions>=3.6.6 in /usr/local/lib/python3.10/dist-packages (from tensorflow) (4.10.0)\n",
            "Requirement already satisfied: wrapt<1.15,>=1.11.0 in /usr/local/lib/python3.10/dist-packages (from tensorflow) (1.14.1)\n",
            "Requirement already satisfied: tensorflow-io-gcs-filesystem>=0.23.1 in /usr/local/lib/python3.10/dist-packages (from tensorflow) (0.36.0)\n",
            "Requirement already satisfied: grpcio<2.0,>=1.24.3 in /usr/local/lib/python3.10/dist-packages (from tensorflow) (1.62.1)\n",
            "Requirement already satisfied: tensorboard<2.16,>=2.15 in /usr/local/lib/python3.10/dist-packages (from tensorflow) (2.15.2)\n",
            "Requirement already satisfied: tensorflow-estimator<2.16,>=2.15.0 in /usr/local/lib/python3.10/dist-packages (from tensorflow) (2.15.0)\n",
            "Requirement already satisfied: wheel<1.0,>=0.23.0 in /usr/local/lib/python3.10/dist-packages (from astunparse>=1.6.0->tensorflow) (0.43.0)\n",
            "Requirement already satisfied: google-auth<3,>=1.6.3 in /usr/local/lib/python3.10/dist-packages (from tensorboard<2.16,>=2.15->tensorflow) (2.27.0)\n",
            "Requirement already satisfied: google-auth-oauthlib<2,>=0.5 in /usr/local/lib/python3.10/dist-packages (from tensorboard<2.16,>=2.15->tensorflow) (1.2.0)\n",
            "Requirement already satisfied: markdown>=2.6.8 in /usr/local/lib/python3.10/dist-packages (from tensorboard<2.16,>=2.15->tensorflow) (3.6)\n",
            "Requirement already satisfied: requests<3,>=2.21.0 in /usr/local/lib/python3.10/dist-packages (from tensorboard<2.16,>=2.15->tensorflow) (2.31.0)\n",
            "Requirement already satisfied: tensorboard-data-server<0.8.0,>=0.7.0 in /usr/local/lib/python3.10/dist-packages (from tensorboard<2.16,>=2.15->tensorflow) (0.7.2)\n",
            "Requirement already satisfied: werkzeug>=1.0.1 in /usr/local/lib/python3.10/dist-packages (from tensorboard<2.16,>=2.15->tensorflow) (3.0.1)\n",
            "Requirement already satisfied: cachetools<6.0,>=2.0.0 in /usr/local/lib/python3.10/dist-packages (from google-auth<3,>=1.6.3->tensorboard<2.16,>=2.15->tensorflow) (5.3.3)\n",
            "Requirement already satisfied: pyasn1-modules>=0.2.1 in /usr/local/lib/python3.10/dist-packages (from google-auth<3,>=1.6.3->tensorboard<2.16,>=2.15->tensorflow) (0.4.0)\n",
            "Requirement already satisfied: rsa<5,>=3.1.4 in /usr/local/lib/python3.10/dist-packages (from google-auth<3,>=1.6.3->tensorboard<2.16,>=2.15->tensorflow) (4.9)\n",
            "Requirement already satisfied: requests-oauthlib>=0.7.0 in /usr/local/lib/python3.10/dist-packages (from google-auth-oauthlib<2,>=0.5->tensorboard<2.16,>=2.15->tensorflow) (1.4.1)\n",
            "Requirement already satisfied: charset-normalizer<4,>=2 in /usr/local/lib/python3.10/dist-packages (from requests<3,>=2.21.0->tensorboard<2.16,>=2.15->tensorflow) (3.3.2)\n",
            "Requirement already satisfied: idna<4,>=2.5 in /usr/local/lib/python3.10/dist-packages (from requests<3,>=2.21.0->tensorboard<2.16,>=2.15->tensorflow) (2.10)\n",
            "Requirement already satisfied: urllib3<3,>=1.21.1 in /usr/local/lib/python3.10/dist-packages (from requests<3,>=2.21.0->tensorboard<2.16,>=2.15->tensorflow) (2.0.7)\n",
            "Requirement already satisfied: certifi>=2017.4.17 in /usr/local/lib/python3.10/dist-packages (from requests<3,>=2.21.0->tensorboard<2.16,>=2.15->tensorflow) (2024.2.2)\n",
            "Requirement already satisfied: MarkupSafe>=2.1.1 in /usr/local/lib/python3.10/dist-packages (from werkzeug>=1.0.1->tensorboard<2.16,>=2.15->tensorflow) (2.1.5)\n",
            "Requirement already satisfied: pyasn1<0.7.0,>=0.4.6 in /usr/local/lib/python3.10/dist-packages (from pyasn1-modules>=0.2.1->google-auth<3,>=1.6.3->tensorboard<2.16,>=2.15->tensorflow) (0.6.0)\n",
            "Requirement already satisfied: oauthlib>=3.0.0 in /usr/local/lib/python3.10/dist-packages (from requests-oauthlib>=0.7.0->google-auth-oauthlib<2,>=0.5->tensorboard<2.16,>=2.15->tensorflow) (3.2.2)\n"
          ]
        },
        {
          "output_type": "stream",
          "name": "stderr",
          "text": [
            "/usr/local/lib/python3.10/dist-packages/sklearn/base.py:318: UserWarning: Trying to unpickle estimator CountVectorizer from version 0.23.2 when using version 1.2.2. This might lead to breaking code or invalid results. Use at your own risk. For more info please refer to:\n",
            "https://scikit-learn.org/stable/model_persistence.html#security-maintainability-limitations\n",
            "  warnings.warn(\n",
            "/usr/local/lib/python3.10/dist-packages/sklearn/base.py:318: UserWarning: Trying to unpickle estimator MultinomialNB from version 0.23.2 when using version 1.2.2. This might lead to breaking code or invalid results. Use at your own risk. For more info please refer to:\n",
            "https://scikit-learn.org/stable/model_persistence.html#security-maintainability-limitations\n",
            "  warnings.warn(\n"
          ]
        },
        {
          "output_type": "stream",
          "name": "stdout",
          "text": [
            "Overall Sentiment Score: 0.23349619161771534\n"
          ]
        }
      ]
    },
    {
      "cell_type": "markdown",
      "source": [
        "Again, we receive a neutral value (between 0 and 1)."
      ],
      "metadata": {
        "id": "MFjH6ANFIKAW"
      }
    },
    {
      "cell_type": "markdown",
      "source": [
        "## 4. Topic Modeling Analysis: Latent Dirichlet Allocation"
      ],
      "metadata": {
        "id": "0ocganbIAG7A"
      }
    },
    {
      "cell_type": "markdown",
      "source": [
        "Now, let's apply a topic modeling technique, Latent Dirichlet Allocation (LDA), to extract topics from the corpus."
      ],
      "metadata": {
        "id": "jesnw20yCglp"
      }
    },
    {
      "cell_type": "markdown",
      "source": [
        "### 4.1 LDA"
      ],
      "metadata": {
        "id": "Mut-n1THFkys"
      }
    },
    {
      "cell_type": "code",
      "source": [
        "from sklearn.feature_extraction.text import CountVectorizer\n",
        "from sklearn.decomposition import LatentDirichletAllocation\n",
        "from nltk.corpus import stopwords\n",
        "import pandas as pd\n",
        "\n",
        "df = pd.read_csv('diariolibre1.csv')\n",
        "df['data'] = df['data'].astype('str')\n",
        "\n",
        "# Function to preprocess text and remove stop words\n",
        "def preprocess_and_remove_stopwords(text):\n",
        "    tokens = text.split()\n",
        "    cleaned_tokens = [token.lower().strip('.,?!') for\n",
        "                      token in tokens\n",
        "                      if token.lower().strip('.,?!')\n",
        "                      not in stopwords.words('spanish')]\n",
        "    return ' '.join(cleaned_tokens)\n",
        "\n",
        "# Preprocess comments and remove stop words\n",
        "df['data'] = df['data'].apply(preprocess_and_remove_stopwords)\n",
        "\n",
        "# Vectorize the text data\n",
        "vectorizer = CountVectorizer()\n",
        "X = vectorizer.fit_transform(df['data'])\n",
        "\n",
        "# Train the LDA model\n",
        "lda_model = LatentDirichletAllocation(n_components=10, max_iter=10,\n",
        "                                      learning_method='online',\n",
        "                                      random_state=42)\n",
        "lda_model.fit(X)\n",
        "\n",
        "# Get the top words for each topic\n",
        "def get_top_words(model, feature_names, n_top_words):\n",
        "    top_words = []\n",
        "    for topic_idx, topic in enumerate(model.components_):\n",
        "        top_words.append([feature_names[i]\n",
        "                          for i in topic.argsort()[:-n_top_words - 1:-1]])\n",
        "    return top_words\n",
        "\n",
        "n_top_words = 10  # Number of top words to display for each topic\n",
        "feature_names = vectorizer.get_feature_names_out()\n",
        "\n",
        "# Display top words for each topic\n",
        "top_words = get_top_words(lda_model, feature_names, n_top_words)\n",
        "for i, words in enumerate(top_words):\n",
        "    print(f\"Topic {i + 1}: {' '.join(words)}\")"
      ],
      "metadata": {
        "id": "QhnhvOJEgHbi",
        "outputId": "e5dc2bf6-39fa-4f0a-bf69-0f0cb7905dd2",
        "colab": {
          "base_uri": "https://localhost:8080/"
        }
      },
      "execution_count": null,
      "outputs": [
        {
          "output_type": "stream",
          "name": "stdout",
          "text": [
            "Topic 1: impune quede así justicia caso nuriapiera aliciaortegah puede quedar joven\n",
            "Topic 2: política rd antemano viene veces van ocultado legislativos dirige leyes\n",
            "Topic 3: si empresa humanos familia debe recursos justicia caso foto sociedad\n",
            "Topic 4: paz alma joven justicia dios país familia caso lamentable muerte\n",
            "Topic 5: misericordia dios ten señor padre mundo amado oh familiares líbranos\n",
            "Topic 6: saber amén violada seguro dejó olvido quiénes asesino tecnología violador\n",
            "Topic 7: pena dios vida pobre caso sueños triste da muerte joven\n",
            "Topic 8: dios justicia mio haga nadie país hijo libre tanta padre\n",
            "Topic 9: mundo personas investiguen si serca jóvenes valores niños malas evitar\n",
            "Topic 10: justicia empresa pueblo joven vida raro debe cámaras divina cámara\n"
          ]
        }
      ]
    },
    {
      "cell_type": "markdown",
      "source": [
        "The results of the model provide more context into why the most common words were found in the descrptive analysis.\n",
        "\n",
        "The topic 1 shows that when people talk about \"justice\" they also are worried about \"impunity\", or the case not being solved. They also mention \"Alicia Ortega\" and \"Nuria Piera\", who are the most influential journalists of the country, receiving a lot of respect from the population. Both have investigated many cases of different nature and have provided sufficient evidence to make a case. In this sense, we can sense how people perceive the Justice System as being so weak that they expect third-parties to participate and help solve the case.\n",
        "\n",
        "The second topic is interesting, and could be an initital point to start thinking about how to model people's opiniions on public matters to motivate policy changes. It might refer to the politics or politician responsibilities regarding the legislative frameworks that regulate harassment issues."
      ],
      "metadata": {
        "id": "Bb-WIStZJ9Hr"
      }
    },
    {
      "cell_type": "markdown",
      "source": [
        "# Conclusion and Final Comments\n",
        "\n",
        "We can extract meaningful insights about people's perception of crime cases in a specific context. In this project, a case of a crime-news-post was analysed. Paula Santana was a young victim with a motivational story that resonated with a lot of people. The nature of the crime was also a topic of discussion due to the fact the was killed in the installations of her job by a suspect that worked in the company and that she had reported for harassment.\n",
        "\n",
        "Therefore, the news of her crime generated a lot of reactions from the population. Social media allow us to capture some of these reactions and try to make sense of the common topics that social media users bring to the table.\n",
        "\n",
        "Some interesting findings refer to the perception of the justice system and how the politician responsibilites in applying the legislations to protect vulnerable people: a young women with dreams and aspirations who could not leave her job even after being harassed. There was also a strong focus on the company's responsibilities. It shows that there should be stronger regulations to ensure that companies abide by the laws and manage harassment cases like this better, to avoid tragedies.\n",
        "\n",
        "The limitations of my research reside in providing a structure for the analysis that could be improved in order to obtain better results. Also, the interpretation of the results might be biased by my pre-conceived understanding of the topic. A larger sample with different news of different crimes can provide better insights into how people react to different types crime and depending on the typification of the victim. Also, extracting not only the main comments but also the responses, can help us understand how people interact in these type of discussions. Further analysis could identify language patterns and language usage in these contexts and try to generalize to formal concepts that can be useful for policymaking and to motivate social changes.  "
      ],
      "metadata": {
        "id": "Odq9b4emIwoC"
      }
    },
    {
      "cell_type": "markdown",
      "source": [
        "# References\n",
        "\n",
        "https://www.sciencedirect.com/science/article/abs/pii/S0747563216305209\n",
        "\n",
        "https://www.sciencedirect.com/science/article/abs/pii/S0010945220301854\n",
        "\n",
        "https://arxiv.org/abs/1205.4944\n",
        "\n",
        "https://ieeexplore.ieee.org/abstract/document/7023387\n",
        "\n",
        "https://www.academia.edu/download/70126212/14309.pdf\n",
        "\n",
        "https://ieeexplore.ieee.org/abstract/document/10002352\n",
        "\n",
        "https://www.ncbi.nlm.nih.gov/pmc/articles/PMC4375793/#:~:text=In%20order%20to%20detect%20messages,articles%20via%20associated%20Web%20links."
      ],
      "metadata": {
        "id": "HZiEGKSWADDs"
      }
    }
  ]
}